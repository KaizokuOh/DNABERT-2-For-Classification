{
 "cells": [
  {
   "cell_type": "markdown",
   "metadata": {},
   "source": [
    "$I -\\textbf{Fetching \\& processing the data}$"
   ]
  },
  {
   "cell_type": "markdown",
   "metadata": {},
   "source": [
    "$\\quad\\quad\\quad \\quad 0-\\textbf{Dependencies}$"
   ]
  },
  {
   "cell_type": "code",
   "execution_count": 1,
   "metadata": {},
   "outputs": [],
   "source": [
    "from Bio import Entrez,SeqIO \n",
    "from Bio.SeqFeature import SeqFeature, FeatureLocation \n",
    "import requests  \n",
    "import pandas as pd  \n",
    "import numpy as np     \n",
    "import requests   \n",
    "from bs4 import BeautifulSoup  \n",
    "from sklearn.model_selection import train_test_split  \n",
    "from transformers import AutoModelForSequenceClassification \n",
    "import torch "
   ]
  },
  {
   "cell_type": "code",
   "execution_count": 2,
   "metadata": {},
   "outputs": [],
   "source": [
    "%load_ext cudf.pandas"
   ]
  },
  {
   "cell_type": "code",
   "execution_count": 3,
   "metadata": {},
   "outputs": [
    {
     "data": {
      "text/plain": [
       "True"
      ]
     },
     "execution_count": 3,
     "metadata": {},
     "output_type": "execute_result"
    }
   ],
   "source": [
    "torch.cuda.is_available()"
   ]
  },
  {
   "cell_type": "markdown",
   "metadata": {},
   "source": [
    "$\\quad\\quad\\quad\\quad 1-\\textbf{Fetching}$"
   ]
  },
  {
   "cell_type": "markdown",
   "metadata": {},
   "source": [
    "Getting the Associations from the GWAS Catalog -- $\\textbf{Cancer}$"
   ]
  },
  {
   "cell_type": "code",
   "execution_count": 4,
   "metadata": {},
   "outputs": [],
   "source": [
    "df=pd.read_csv(\"/home/kaizokuo/Documents/DATA/cancer_associations.tsv\",sep=\"\\t\")"
   ]
  },
  {
   "cell_type": "markdown",
   "metadata": {},
   "source": [
    "Cleaning the data "
   ]
  },
  {
   "cell_type": "code",
   "execution_count": 5,
   "metadata": {},
   "outputs": [],
   "source": [
    "# As an array \n",
    "ref_mutA =np.array([[x[-1], y.split(':')[0], (y.split(':')[1]).split(',')[0],z.split(',')[0]] for x, y,z in zip(df[\"riskAllele\"], df[\"locations\"],df['mappedGenes']) if x[-1] != '?' and y!='-' ])\n",
    "# As a DataFrame\n",
    "ref_mutD =pd.DataFrame(ref_mutA,columns=['riskAllele','Chromosome','MutAll_Pos','MappedGene'])  "
   ]
  },
  {
   "cell_type": "markdown",
   "metadata": {},
   "source": [
    "Get the location of the gene "
   ]
  },
  {
   "cell_type": "code",
   "execution_count": 6,
   "metadata": {},
   "outputs": [],
   "source": [
    "# Function that extracts the gene's location given it's name \n",
    "def get_gene_location(gene_name):\n",
    "    server = \"https://rest.ensembl.org\"\n",
    "    ext = f\"/lookup/symbol/human/{gene_name}?content-type=application/json\"\n",
    "    response = requests.get(server + ext, headers={\"Content-Type\": \"application/json\"})\n",
    "    if not response.ok:\n",
    "        return '-'\n",
    "    \n",
    "    data = response.json()\n",
    "    start = data['start']\n",
    "    end = data['end']\n",
    "    return start, end"
   ]
  },
  {
   "cell_type": "code",
   "execution_count": 7,
   "metadata": {},
   "outputs": [],
   "source": [
    "#Gloc=ref_mutD[\"MappedGene\"].apply(get_gene_location)"
   ]
  },
  {
   "cell_type": "code",
   "execution_count": 8,
   "metadata": {},
   "outputs": [],
   "source": [
    "#Gloctxt=Gloc.to_string(index=False,max_rows=None)"
   ]
  },
  {
   "cell_type": "code",
   "execution_count": 9,
   "metadata": {},
   "outputs": [],
   "source": [
    "#f = open(\"Gene_location.txt\", 'w')\n",
    "#f.write(Gloctxt)\n",
    "#f.close()"
   ]
  },
  {
   "cell_type": "code",
   "execution_count": 10,
   "metadata": {},
   "outputs": [],
   "source": [
    "file=open(\"/home/kaizokuo/Documents/Jupyter/Gene_location.txt\",\"r\")"
   ]
  },
  {
   "cell_type": "code",
   "execution_count": 11,
   "metadata": {},
   "outputs": [],
   "source": [
    "Gloc=file.readlines()"
   ]
  },
  {
   "cell_type": "code",
   "execution_count": 12,
   "metadata": {},
   "outputs": [],
   "source": [
    "Gloc=[line.replace(\"(\",\"\").replace(\")\",\"\").replace(\" \",\"\").replace(\"\\n\",\"\") for line in Gloc]  "
   ]
  },
  {
   "cell_type": "code",
   "execution_count": 13,
   "metadata": {},
   "outputs": [
    {
     "data": {
      "text/html": [
       "<div>\n",
       "<style scoped>\n",
       "    .dataframe tbody tr th:only-of-type {\n",
       "        vertical-align: middle;\n",
       "    }\n",
       "\n",
       "    .dataframe tbody tr th {\n",
       "        vertical-align: top;\n",
       "    }\n",
       "\n",
       "    .dataframe thead th {\n",
       "        text-align: right;\n",
       "    }\n",
       "</style>\n",
       "<table border=\"1\" class=\"dataframe\">\n",
       "  <thead>\n",
       "    <tr style=\"text-align: right;\">\n",
       "      <th></th>\n",
       "      <th>riskAllele</th>\n",
       "      <th>Chromosome</th>\n",
       "      <th>MutAll_Pos</th>\n",
       "      <th>MappedGene</th>\n",
       "    </tr>\n",
       "  </thead>\n",
       "  <tbody>\n",
       "    <tr>\n",
       "      <th>0</th>\n",
       "      <td>A</td>\n",
       "      <td>1</td>\n",
       "      <td>1351675</td>\n",
       "      <td>MXRA8</td>\n",
       "    </tr>\n",
       "    <tr>\n",
       "      <th>1</th>\n",
       "      <td>T</td>\n",
       "      <td>1</td>\n",
       "      <td>155212373</td>\n",
       "      <td>MTX1</td>\n",
       "    </tr>\n",
       "    <tr>\n",
       "      <th>2</th>\n",
       "      <td>T</td>\n",
       "      <td>3</td>\n",
       "      <td>27285723</td>\n",
       "      <td>NEK10</td>\n",
       "    </tr>\n",
       "    <tr>\n",
       "      <th>3</th>\n",
       "      <td>A</td>\n",
       "      <td>4</td>\n",
       "      <td>105140377</td>\n",
       "      <td>TET2</td>\n",
       "    </tr>\n",
       "    <tr>\n",
       "      <th>4</th>\n",
       "      <td>A</td>\n",
       "      <td>5</td>\n",
       "      <td>1282299</td>\n",
       "      <td>TERT</td>\n",
       "    </tr>\n",
       "    <tr>\n",
       "      <th>...</th>\n",
       "      <td>...</td>\n",
       "      <td>...</td>\n",
       "      <td>...</td>\n",
       "      <td>...</td>\n",
       "    </tr>\n",
       "    <tr>\n",
       "      <th>11516</th>\n",
       "      <td>C</td>\n",
       "      <td>6</td>\n",
       "      <td>53312880</td>\n",
       "      <td>ELOVL5</td>\n",
       "    </tr>\n",
       "    <tr>\n",
       "      <th>11517</th>\n",
       "      <td>C</td>\n",
       "      <td>18</td>\n",
       "      <td>53580709</td>\n",
       "      <td>LINC01919</td>\n",
       "    </tr>\n",
       "    <tr>\n",
       "      <th>11518</th>\n",
       "      <td>C</td>\n",
       "      <td>5</td>\n",
       "      <td>87315172</td>\n",
       "      <td>RASA1</td>\n",
       "    </tr>\n",
       "    <tr>\n",
       "      <th>11519</th>\n",
       "      <td>C</td>\n",
       "      <td>3</td>\n",
       "      <td>175534948</td>\n",
       "      <td>NAALADL2</td>\n",
       "    </tr>\n",
       "    <tr>\n",
       "      <th>11520</th>\n",
       "      <td>T</td>\n",
       "      <td>19</td>\n",
       "      <td>50857584</td>\n",
       "      <td>KLK3</td>\n",
       "    </tr>\n",
       "  </tbody>\n",
       "</table>\n",
       "<p>11521 rows × 4 columns</p>\n",
       "</div>"
      ],
      "text/plain": [
       "      riskAllele Chromosome MutAll_Pos MappedGene\n",
       "0              A          1    1351675      MXRA8\n",
       "1              T          1  155212373       MTX1\n",
       "2              T          3   27285723      NEK10\n",
       "3              A          4  105140377       TET2\n",
       "4              A          5    1282299       TERT\n",
       "...          ...        ...        ...        ...\n",
       "11516          C          6   53312880     ELOVL5\n",
       "11517          C         18   53580709  LINC01919\n",
       "11518          C          5   87315172      RASA1\n",
       "11519          C          3  175534948   NAALADL2\n",
       "11520          T         19   50857584       KLK3\n",
       "\n",
       "[11521 rows x 4 columns]"
      ]
     },
     "execution_count": 13,
     "metadata": {},
     "output_type": "execute_result"
    }
   ],
   "source": [
    "ref_mutD "
   ]
  },
  {
   "cell_type": "code",
   "execution_count": 14,
   "metadata": {},
   "outputs": [],
   "source": [
    "ref_mutA =np.array([[str(x),str(y),str(z),str(a)] for x,y,z,a in zip(ref_mutD[\"riskAllele\"], ref_mutD[\"Chromosome\"],ref_mutD[\"MutAll_Pos\"],Gloc) if a!='-'])\n",
    "ref_mutD =pd.DataFrame(ref_mutA,columns=['riskAllele','Chromosome','MutAllLoc','MapGenLoc'])  "
   ]
  },
  {
   "cell_type": "code",
   "execution_count": 15,
   "metadata": {},
   "outputs": [
    {
     "data": {
      "text/html": [
       "<div>\n",
       "<style scoped>\n",
       "    .dataframe tbody tr th:only-of-type {\n",
       "        vertical-align: middle;\n",
       "    }\n",
       "\n",
       "    .dataframe tbody tr th {\n",
       "        vertical-align: top;\n",
       "    }\n",
       "\n",
       "    .dataframe thead th {\n",
       "        text-align: right;\n",
       "    }\n",
       "</style>\n",
       "<table border=\"1\" class=\"dataframe\">\n",
       "  <thead>\n",
       "    <tr style=\"text-align: right;\">\n",
       "      <th></th>\n",
       "      <th>riskAllele</th>\n",
       "      <th>Chromosome</th>\n",
       "      <th>MutAllLoc</th>\n",
       "      <th>MapGenLoc</th>\n",
       "    </tr>\n",
       "  </thead>\n",
       "  <tbody>\n",
       "    <tr>\n",
       "      <th>0</th>\n",
       "      <td>A</td>\n",
       "      <td>1</td>\n",
       "      <td>1351675</td>\n",
       "      <td>1352689,1361777</td>\n",
       "    </tr>\n",
       "    <tr>\n",
       "      <th>1</th>\n",
       "      <td>T</td>\n",
       "      <td>1</td>\n",
       "      <td>155212373</td>\n",
       "      <td>155208695,155213824</td>\n",
       "    </tr>\n",
       "    <tr>\n",
       "      <th>2</th>\n",
       "      <td>T</td>\n",
       "      <td>3</td>\n",
       "      <td>27285723</td>\n",
       "      <td>27106484,27369460</td>\n",
       "    </tr>\n",
       "    <tr>\n",
       "      <th>3</th>\n",
       "      <td>A</td>\n",
       "      <td>4</td>\n",
       "      <td>105140377</td>\n",
       "      <td>105145875,105279816</td>\n",
       "    </tr>\n",
       "    <tr>\n",
       "      <th>4</th>\n",
       "      <td>A</td>\n",
       "      <td>5</td>\n",
       "      <td>1282299</td>\n",
       "      <td>1253147,1295068</td>\n",
       "    </tr>\n",
       "    <tr>\n",
       "      <th>...</th>\n",
       "      <td>...</td>\n",
       "      <td>...</td>\n",
       "      <td>...</td>\n",
       "      <td>...</td>\n",
       "    </tr>\n",
       "    <tr>\n",
       "      <th>9704</th>\n",
       "      <td>C</td>\n",
       "      <td>6</td>\n",
       "      <td>53312880</td>\n",
       "      <td>53267398,53349179</td>\n",
       "    </tr>\n",
       "    <tr>\n",
       "      <th>9705</th>\n",
       "      <td>C</td>\n",
       "      <td>18</td>\n",
       "      <td>53580709</td>\n",
       "      <td>53568439,53629990</td>\n",
       "    </tr>\n",
       "    <tr>\n",
       "      <th>9706</th>\n",
       "      <td>C</td>\n",
       "      <td>5</td>\n",
       "      <td>87315172</td>\n",
       "      <td>87267883,87391931</td>\n",
       "    </tr>\n",
       "    <tr>\n",
       "      <th>9707</th>\n",
       "      <td>C</td>\n",
       "      <td>3</td>\n",
       "      <td>175534948</td>\n",
       "      <td>174438573,175810548</td>\n",
       "    </tr>\n",
       "    <tr>\n",
       "      <th>9708</th>\n",
       "      <td>T</td>\n",
       "      <td>19</td>\n",
       "      <td>50857584</td>\n",
       "      <td>50854915,50860764</td>\n",
       "    </tr>\n",
       "  </tbody>\n",
       "</table>\n",
       "<p>9709 rows × 4 columns</p>\n",
       "</div>"
      ],
      "text/plain": [
       "     riskAllele Chromosome  MutAllLoc            MapGenLoc\n",
       "0             A          1    1351675      1352689,1361777\n",
       "1             T          1  155212373  155208695,155213824\n",
       "2             T          3   27285723    27106484,27369460\n",
       "3             A          4  105140377  105145875,105279816\n",
       "4             A          5    1282299      1253147,1295068\n",
       "...         ...        ...        ...                  ...\n",
       "9704          C          6   53312880    53267398,53349179\n",
       "9705          C         18   53580709    53568439,53629990\n",
       "9706          C          5   87315172    87267883,87391931\n",
       "9707          C          3  175534948  174438573,175810548\n",
       "9708          T         19   50857584    50854915,50860764\n",
       "\n",
       "[9709 rows x 4 columns]"
      ]
     },
     "execution_count": 15,
     "metadata": {},
     "output_type": "execute_result"
    }
   ],
   "source": [
    "ref_mutD"
   ]
  },
  {
   "cell_type": "markdown",
   "metadata": {},
   "source": [
    "For the Reference Gene (this didn't work)"
   ]
  },
  {
   "cell_type": "code",
   "execution_count": 16,
   "metadata": {},
   "outputs": [
    {
     "data": {
      "text/plain": [
       "'import cudf\\nref_mutD_cdf=cudf.DataFrame.from_pandas(ref_mutD)'"
      ]
     },
     "execution_count": 16,
     "metadata": {},
     "output_type": "execute_result"
    }
   ],
   "source": [
    "\"\"\"import cudf\n",
    "ref_mutD_cdf=cudf.DataFrame.from_pandas(ref_mutD)\"\"\""
   ]
  },
  {
   "cell_type": "markdown",
   "metadata": {},
   "source": [
    "Error : this won't work because cudf doesn't accept strings. "
   ]
  },
  {
   "cell_type": "code",
   "execution_count": 17,
   "metadata": {},
   "outputs": [],
   "source": [
    "def fetch_gene_sequence_ensembl_cudf(chr, maloc, mgloc,out_col):\n",
    "    for i, (c1,c2,c3) in enumerate(zip(chr,maloc,mgloc)):\n",
    "        print(i)\n",
    "        chromosome=c1\n",
    "        h=c3.split(',')\n",
    "        start=int(h[0])\n",
    "        end=int(h[1])\n",
    "        al=int(c2) \n",
    "        if start>al:\n",
    "            return '-'\n",
    "        # reducing the gene size for the tokenizer + faster for computer \n",
    "        start=max(al-250,start)\n",
    "        end=min(al+250,end)\n",
    "        assembly=\"GRCh38\"\n",
    "        server = \"https://rest.ensembl.org\"\n",
    "        ext = f\"/sequence/region/human/{chromosome}:{start}..{end}:{1}?coord_system_version={assembly}\"\n",
    "        \n",
    "        headers = { \"Content-Type\" : \"text/plain\"}\n",
    "        response = requests.get(server+ext, headers=headers)\n",
    "        if not response.ok:\n",
    "            out_col[i]='-'\n",
    "        \n",
    "        else :\n",
    "            out_col[i]=response.text\n",
    "\n",
    "\n",
    "            \n",
    "\n"
   ]
  },
  {
   "cell_type": "markdown",
   "metadata": {},
   "source": [
    "We can preprocess the data to make the input acceptable"
   ]
  },
  {
   "cell_type": "code",
   "execution_count": 18,
   "metadata": {},
   "outputs": [
    {
     "data": {
      "text/plain": [
       "'start=np.zeros(len(ref_mutD))\\nend=np.zeros(len(ref_mutD))\\nfor i, (c1,c2,c3) in enumerate(zip(ref_mutD[\"Chromosome\"],ref_mutD[\"MutAllLoc\"],ref_mutD[\"MapGenLoc\"])):\\n    print(i)\\n    chromosome=c1\\n    h=c3.split(\\',\\')\\n    st=int(h[0])\\n    ed=int(h[1])\\n    al=int(c2) \\n    if st>al:\\n        continue\\n    # reducing the gene size for the tokenizer + faster for computer \\n    start[i]=max(al-250,st)\\n    end[i]=min(al+250,ed)'"
      ]
     },
     "execution_count": 18,
     "metadata": {},
     "output_type": "execute_result"
    }
   ],
   "source": [
    "\"\"\"start=np.zeros(len(ref_mutD))\n",
    "end=np.zeros(len(ref_mutD))\n",
    "for i, (c1,c2,c3) in enumerate(zip(ref_mutD[\"Chromosome\"],ref_mutD[\"MutAllLoc\"],ref_mutD[\"MapGenLoc\"])):\n",
    "    print(i)\n",
    "    chromosome=c1\n",
    "    h=c3.split(',')\n",
    "    st=int(h[0])\n",
    "    ed=int(h[1])\n",
    "    al=int(c2) \n",
    "    if st>al:\n",
    "        continue\n",
    "    # reducing the gene size for the tokenizer + faster for computer \n",
    "    start[i]=max(al-250,st)\n",
    "    end[i]=min(al+250,ed)\"\"\""
   ]
  },
  {
   "cell_type": "markdown",
   "metadata": {},
   "source": [
    "Numerize Chromosome column"
   ]
  },
  {
   "cell_type": "code",
   "execution_count": 19,
   "metadata": {},
   "outputs": [
    {
     "data": {
      "text/plain": [
       "'for i in range(len(ref_mutD)):\\n    if ref_mutD[\"Chromosome\"][i]==\"X\":\\n        ref_mutD[\"Chromosome\"][i]=24\\n    elif  ref_mutD[\"Chromosome\"][i]==\"Y\":\\n        ref_mutD[\"Chromosome\"][i]=23\\n    else : \\n        ref_mutD[\"Chromosome\"][i]=int(ref_mutD[\"Chromosome\"][i])\\nref_mutD[\"Chromosome\"] = ref_mutD[\"Chromosome\"].apply(lambda x: int(x))'"
      ]
     },
     "execution_count": 19,
     "metadata": {},
     "output_type": "execute_result"
    }
   ],
   "source": [
    "\"\"\"for i in range(len(ref_mutD)):\n",
    "    if ref_mutD[\"Chromosome\"][i]==\"X\":\n",
    "        ref_mutD[\"Chromosome\"][i]=24\n",
    "    elif  ref_mutD[\"Chromosome\"][i]==\"Y\":\n",
    "        ref_mutD[\"Chromosome\"][i]=23\n",
    "    else : \n",
    "        ref_mutD[\"Chromosome\"][i]=int(ref_mutD[\"Chromosome\"][i])\n",
    "ref_mutD[\"Chromosome\"] = ref_mutD[\"Chromosome\"].apply(lambda x: int(x))\"\"\""
   ]
  },
  {
   "cell_type": "code",
   "execution_count": 20,
   "metadata": {},
   "outputs": [
    {
     "data": {
      "text/plain": [
       "'type(ref_mutD[\"Chromosome\"])'"
      ]
     },
     "execution_count": 20,
     "metadata": {},
     "output_type": "execute_result"
    }
   ],
   "source": [
    "\"\"\"type(ref_mutD[\"Chromosome\"])\"\"\""
   ]
  },
  {
   "cell_type": "code",
   "execution_count": 21,
   "metadata": {},
   "outputs": [
    {
     "data": {
      "text/plain": [
       "'start_end=cudf.DataFrame({\\n    \"start\":start,\\n    \"end\":end,\\n    \"Chromosome\":ref_mutD[\"Chromosome\"]\\n})\\nprint(start_end)'"
      ]
     },
     "execution_count": 21,
     "metadata": {},
     "output_type": "execute_result"
    }
   ],
   "source": [
    "\"\"\"start_end=cudf.DataFrame({\n",
    "    \"start\":start,\n",
    "    \"end\":end,\n",
    "    \"Chromosome\":ref_mutD[\"Chromosome\"]\n",
    "})\n",
    "print(start_end)\"\"\""
   ]
  },
  {
   "cell_type": "markdown",
   "metadata": {},
   "source": [
    "New UDF for CudF"
   ]
  },
  {
   "cell_type": "code",
   "execution_count": 22,
   "metadata": {},
   "outputs": [
    {
     "data": {
      "text/plain": [
       "'hash={\\'A\\':1,\\'C\\':2,\\'T\\':3,\\'G\\':4,\\'i\\':5,\\'D\\':6}\\n\\n\\ndef fetch_gene_sequence_ensembl_cudf(start,end,Chromosome,RefGen):\\n    for i, (st,ed,chr) in enumerate(zip(start,end,Chromosome)):\\n        print(i)\\n        if st==ed==0:\\n            RefGen[i]=\"-\"\\n        server = \"https://rest.ensembl.org\"\\n        ext = f\"/sequence/region/human/{chr}:{st}..{ed}:{1}?coord_system_version=GRCh38\"\\n        \\n        headers = { \"Content-Type\" : \"text/plain\"}\\n        response = requests.get(server+ext, headers=headers)\\n        if not response.ok:\\n            RefGen[i]=-1\\n        \\n        else :\\n            dna=response.text\\n            dna=list(dna)\\n            for i in range(len(dna)):\\n                if dna[i]==\\'A\\':\\n                    dna[i]=1\\n                elif dna[i]==\\'C\\':\\n                    dna[i]=2\\n                elif dna[i]==\\'T\\':\\n                    dna[i]=3\\n                elif dna[i]==\\'G\\':\\n                    dna[i]=4\\n                elif dna[i]==\\'I\\':\\n                    dna[i]=5\\n                elif dna[i]==\\'D\\':\\n                    dna[i]=6\\n            RefGen[i]=dna'"
      ]
     },
     "execution_count": 22,
     "metadata": {},
     "output_type": "execute_result"
    }
   ],
   "source": [
    "\"\"\"hash={'A':1,'C':2,'T':3,'G':4,'i':5,'D':6}\n",
    "\n",
    "\n",
    "def fetch_gene_sequence_ensembl_cudf(start,end,Chromosome,RefGen):\n",
    "    for i, (st,ed,chr) in enumerate(zip(start,end,Chromosome)):\n",
    "        print(i)\n",
    "        if st==ed==0:\n",
    "            RefGen[i]=\"-\"\n",
    "        server = \"https://rest.ensembl.org\"\n",
    "        ext = f\"/sequence/region/human/{chr}:{st}..{ed}:{1}?coord_system_version=GRCh38\"\n",
    "        \n",
    "        headers = { \"Content-Type\" : \"text/plain\"}\n",
    "        response = requests.get(server+ext, headers=headers)\n",
    "        if not response.ok:\n",
    "            RefGen[i]=-1\n",
    "        \n",
    "        else :\n",
    "            dna=response.text\n",
    "            dna=list(dna)\n",
    "            for i in range(len(dna)):\n",
    "                if dna[i]=='A':\n",
    "                    dna[i]=1\n",
    "                elif dna[i]=='C':\n",
    "                    dna[i]=2\n",
    "                elif dna[i]=='T':\n",
    "                    dna[i]=3\n",
    "                elif dna[i]=='G':\n",
    "                    dna[i]=4\n",
    "                elif dna[i]=='I':\n",
    "                    dna[i]=5\n",
    "                elif dna[i]=='D':\n",
    "                    dna[i]=6\n",
    "            RefGen[i]=dna\"\"\""
   ]
  },
  {
   "cell_type": "code",
   "execution_count": 23,
   "metadata": {},
   "outputs": [
    {
     "data": {
      "text/plain": [
       "'refGen=start_end.apply_rows(fetch_gene_sequence_ensembl_cudf,\\n                                     incols=[\"start\",\"end\",\"Chromosome\"],\\n                                     outcols=dict(RefGen=int),\\n                                     kwargs={})'"
      ]
     },
     "execution_count": 23,
     "metadata": {},
     "output_type": "execute_result"
    }
   ],
   "source": [
    "\"\"\"refGen=start_end.apply_rows(fetch_gene_sequence_ensembl_cudf,\n",
    "                                     incols=[\"start\",\"end\",\"Chromosome\"],\n",
    "                                     outcols=dict(RefGen=int),\n",
    "                                     kwargs={})\"\"\""
   ]
  },
  {
   "cell_type": "code",
   "execution_count": 24,
   "metadata": {},
   "outputs": [
    {
     "data": {
      "text/plain": [
       "array(['1', '3', '4', '5', '7', '9', '10', '11', '12', '13', '14', '17',\n",
       "       '19', '20', '6', '18', '16', '22', '8', '2', '15', '21', 'X'],\n",
       "      dtype=object)"
      ]
     },
     "execution_count": 24,
     "metadata": {},
     "output_type": "execute_result"
    }
   ],
   "source": [
    "ref_mutD[\"Chromosome\"].unique()"
   ]
  },
  {
   "cell_type": "markdown",
   "metadata": {},
   "source": [
    "Fetching DNA Sequence :"
   ]
  },
  {
   "cell_type": "code",
   "execution_count": 25,
   "metadata": {},
   "outputs": [],
   "source": [
    "def fetch_gene_sequence_ensembl(X):\n",
    "    print(X.name)\n",
    "    chromosome=X.iloc[1]\n",
    "    h=X.iloc[3].split(',')\n",
    "    start=int(h[0])\n",
    "    end=int(h[1])\n",
    "    al=int(X.iloc[2]) \n",
    "    if start>al or al>end: \n",
    "        return '-'\n",
    "    # reducing the gene size for the tokenizer + faster for computer \n",
    "    #start=max(al-250,start) \n",
    "    #end=min(al+250,end)\n",
    "    assembly=\"GRCh38\"\n",
    "    server = \"https://rest.ensembl.org\"\n",
    "    ext = f\"/sequence/region/human/{chromosome}:{start}..{end}:{1}?coord_system_version={assembly}\"\n",
    "    \n",
    "    headers = { \"Content-Type\" : \"text/plain\"}\n",
    "    response = requests.get(server+ext, headers=headers)\n",
    "    if not response.ok:\n",
    "        return '-'\n",
    "    return response.text"
   ]
  },
  {
   "cell_type": "markdown",
   "metadata": {},
   "source": [
    "Saving the Reference Gene"
   ]
  },
  {
   "cell_type": "code",
   "execution_count": 26,
   "metadata": {},
   "outputs": [],
   "source": [
    "#ref_mutD[\"RefGene\"]=pd.DataFrame(ref_mutD.apply(fetch_gene_sequence_ensembl,axis=1))"
   ]
  },
  {
   "cell_type": "code",
   "execution_count": 27,
   "metadata": {},
   "outputs": [],
   "source": [
    "#with open(\"Reference_gene.txt\", \"w\") as file:\n",
    "    # Iterate through each sequence in the list\n",
    "#    for sequence in ref_mutD[\"RefGene\"]:\n",
    "        # Write the sequence to the file, followed by a newline character\n",
    "#        file.write(sequence + \"\\n\")"
   ]
  },
  {
   "cell_type": "code",
   "execution_count": 28,
   "metadata": {},
   "outputs": [],
   "source": [
    "f=open(\"Reference_gene.txt\")\n",
    "RefGene=f.readlines()"
   ]
  },
  {
   "cell_type": "code",
   "execution_count": 29,
   "metadata": {},
   "outputs": [],
   "source": [
    "ref_mutD[\"RefGene\"]=RefGene"
   ]
  },
  {
   "cell_type": "code",
   "execution_count": 30,
   "metadata": {},
   "outputs": [
    {
     "data": {
      "text/html": [
       "<div>\n",
       "<style scoped>\n",
       "    .dataframe tbody tr th:only-of-type {\n",
       "        vertical-align: middle;\n",
       "    }\n",
       "\n",
       "    .dataframe tbody tr th {\n",
       "        vertical-align: top;\n",
       "    }\n",
       "\n",
       "    .dataframe thead th {\n",
       "        text-align: right;\n",
       "    }\n",
       "</style>\n",
       "<table border=\"1\" class=\"dataframe\">\n",
       "  <thead>\n",
       "    <tr style=\"text-align: right;\">\n",
       "      <th></th>\n",
       "      <th>riskAllele</th>\n",
       "      <th>Chromosome</th>\n",
       "      <th>MutAllLoc</th>\n",
       "      <th>MapGenLoc</th>\n",
       "      <th>RefGene</th>\n",
       "    </tr>\n",
       "  </thead>\n",
       "  <tbody>\n",
       "    <tr>\n",
       "      <th>0</th>\n",
       "      <td>A</td>\n",
       "      <td>1</td>\n",
       "      <td>1351675</td>\n",
       "      <td>1352689,1361777</td>\n",
       "      <td>-\\n</td>\n",
       "    </tr>\n",
       "    <tr>\n",
       "      <th>1</th>\n",
       "      <td>T</td>\n",
       "      <td>1</td>\n",
       "      <td>155212373</td>\n",
       "      <td>155208695,155213824</td>\n",
       "      <td>ACAGAAGTACAATGCTGATTATGATCTGTCAGCTCGGCAAGGGGCA...</td>\n",
       "    </tr>\n",
       "    <tr>\n",
       "      <th>2</th>\n",
       "      <td>T</td>\n",
       "      <td>3</td>\n",
       "      <td>27285723</td>\n",
       "      <td>27106484,27369460</td>\n",
       "      <td>TGAAAATAACACACATGATAGAAATTTCTGTTATGTCTTTCAAAAG...</td>\n",
       "    </tr>\n",
       "    <tr>\n",
       "      <th>3</th>\n",
       "      <td>A</td>\n",
       "      <td>4</td>\n",
       "      <td>105140377</td>\n",
       "      <td>105145875,105279816</td>\n",
       "      <td>-\\n</td>\n",
       "    </tr>\n",
       "    <tr>\n",
       "      <th>4</th>\n",
       "      <td>A</td>\n",
       "      <td>5</td>\n",
       "      <td>1282299</td>\n",
       "      <td>1253147,1295068</td>\n",
       "      <td>CTGCACTCCAGCCTGGGCAACAGAGTGAGACTCCATCTCAAAAAAG...</td>\n",
       "    </tr>\n",
       "    <tr>\n",
       "      <th>...</th>\n",
       "      <td>...</td>\n",
       "      <td>...</td>\n",
       "      <td>...</td>\n",
       "      <td>...</td>\n",
       "      <td>...</td>\n",
       "    </tr>\n",
       "    <tr>\n",
       "      <th>9704</th>\n",
       "      <td>C</td>\n",
       "      <td>6</td>\n",
       "      <td>53312880</td>\n",
       "      <td>53267398,53349179</td>\n",
       "      <td>TCCTGTACAATGTTACCACTGGGGGAAACAGGGTAGAGAGTACTTG...</td>\n",
       "    </tr>\n",
       "    <tr>\n",
       "      <th>9705</th>\n",
       "      <td>C</td>\n",
       "      <td>18</td>\n",
       "      <td>53580709</td>\n",
       "      <td>53568439,53629990</td>\n",
       "      <td>CACCATCTTCTTGTTTTTTTCTTGCAGAAGAAATGTCAAGTTATAC...</td>\n",
       "    </tr>\n",
       "    <tr>\n",
       "      <th>9706</th>\n",
       "      <td>C</td>\n",
       "      <td>5</td>\n",
       "      <td>87315172</td>\n",
       "      <td>87267883,87391931</td>\n",
       "      <td>GATAAGTGACACCCCCATCTTTAAGTTTGTTTCAGAGATCCTAAAT...</td>\n",
       "    </tr>\n",
       "    <tr>\n",
       "      <th>9707</th>\n",
       "      <td>C</td>\n",
       "      <td>3</td>\n",
       "      <td>175534948</td>\n",
       "      <td>174438573,175810548</td>\n",
       "      <td>GGTATTTAAATGATAAAGGAGGCCTATTGACTCAGTAGTTTAGGAC...</td>\n",
       "    </tr>\n",
       "    <tr>\n",
       "      <th>9708</th>\n",
       "      <td>T</td>\n",
       "      <td>19</td>\n",
       "      <td>50857584</td>\n",
       "      <td>50854915,50860764</td>\n",
       "      <td>GGGGCAATTGAGGGAGGAGGAAGGAGAAGGGGGAAGGAAAACAGGG...</td>\n",
       "    </tr>\n",
       "  </tbody>\n",
       "</table>\n",
       "<p>9709 rows × 5 columns</p>\n",
       "</div>"
      ],
      "text/plain": [
       "     riskAllele Chromosome  MutAllLoc            MapGenLoc  \\\n",
       "0             A          1    1351675      1352689,1361777   \n",
       "1             T          1  155212373  155208695,155213824   \n",
       "2             T          3   27285723    27106484,27369460   \n",
       "3             A          4  105140377  105145875,105279816   \n",
       "4             A          5    1282299      1253147,1295068   \n",
       "...         ...        ...        ...                  ...   \n",
       "9704          C          6   53312880    53267398,53349179   \n",
       "9705          C         18   53580709    53568439,53629990   \n",
       "9706          C          5   87315172    87267883,87391931   \n",
       "9707          C          3  175534948  174438573,175810548   \n",
       "9708          T         19   50857584    50854915,50860764   \n",
       "\n",
       "                                                RefGene  \n",
       "0                                                   -\\n  \n",
       "1     ACAGAAGTACAATGCTGATTATGATCTGTCAGCTCGGCAAGGGGCA...  \n",
       "2     TGAAAATAACACACATGATAGAAATTTCTGTTATGTCTTTCAAAAG...  \n",
       "3                                                   -\\n  \n",
       "4     CTGCACTCCAGCCTGGGCAACAGAGTGAGACTCCATCTCAAAAAAG...  \n",
       "...                                                 ...  \n",
       "9704  TCCTGTACAATGTTACCACTGGGGGAAACAGGGTAGAGAGTACTTG...  \n",
       "9705  CACCATCTTCTTGTTTTTTTCTTGCAGAAGAAATGTCAAGTTATAC...  \n",
       "9706  GATAAGTGACACCCCCATCTTTAAGTTTGTTTCAGAGATCCTAAAT...  \n",
       "9707  GGTATTTAAATGATAAAGGAGGCCTATTGACTCAGTAGTTTAGGAC...  \n",
       "9708  GGGGCAATTGAGGGAGGAGGAAGGAGAAGGGGGAAGGAAAACAGGG...  \n",
       "\n",
       "[9709 rows x 5 columns]"
      ]
     },
     "execution_count": 30,
     "metadata": {},
     "output_type": "execute_result"
    }
   ],
   "source": [
    "ref_mutD"
   ]
  },
  {
   "cell_type": "code",
   "execution_count": 31,
   "metadata": {},
   "outputs": [],
   "source": [
    "ref_mutA =np.array([[str(x),str(y),str(z),str(a),str(b)] for x,y,z,a,b in zip(ref_mutD[\"riskAllele\"], ref_mutD[\"Chromosome\"],ref_mutD[\"MutAllLoc\"],ref_mutD[\"MapGenLoc\"],ref_mutD[\"RefGene\"]) if a!='-' and b!='-\\n'])\n",
    "ref_mutD =pd.DataFrame(ref_mutA,columns=['riskAllele','Chromosome','MutAllLoc','MapGenLoc','RefGene']) "
   ]
  },
  {
   "cell_type": "code",
   "execution_count": 32,
   "metadata": {},
   "outputs": [
    {
     "data": {
      "text/html": [
       "<div>\n",
       "<style scoped>\n",
       "    .dataframe tbody tr th:only-of-type {\n",
       "        vertical-align: middle;\n",
       "    }\n",
       "\n",
       "    .dataframe tbody tr th {\n",
       "        vertical-align: top;\n",
       "    }\n",
       "\n",
       "    .dataframe thead th {\n",
       "        text-align: right;\n",
       "    }\n",
       "</style>\n",
       "<table border=\"1\" class=\"dataframe\">\n",
       "  <thead>\n",
       "    <tr style=\"text-align: right;\">\n",
       "      <th></th>\n",
       "      <th>riskAllele</th>\n",
       "      <th>Chromosome</th>\n",
       "      <th>MutAllLoc</th>\n",
       "      <th>MapGenLoc</th>\n",
       "      <th>RefGene</th>\n",
       "    </tr>\n",
       "  </thead>\n",
       "  <tbody>\n",
       "    <tr>\n",
       "      <th>0</th>\n",
       "      <td>T</td>\n",
       "      <td>1</td>\n",
       "      <td>155212373</td>\n",
       "      <td>155208695,155213824</td>\n",
       "      <td>ACAGAAGTACAATGCTGATTATGATCTGTCAGCTCGGCAAGGGGCA...</td>\n",
       "    </tr>\n",
       "    <tr>\n",
       "      <th>1</th>\n",
       "      <td>T</td>\n",
       "      <td>3</td>\n",
       "      <td>27285723</td>\n",
       "      <td>27106484,27369460</td>\n",
       "      <td>TGAAAATAACACACATGATAGAAATTTCTGTTATGTCTTTCAAAAG...</td>\n",
       "    </tr>\n",
       "    <tr>\n",
       "      <th>2</th>\n",
       "      <td>A</td>\n",
       "      <td>5</td>\n",
       "      <td>1282299</td>\n",
       "      <td>1253147,1295068</td>\n",
       "      <td>CTGCACTCCAGCCTGGGCAACAGAGTGAGACTCCATCTCAAAAAAG...</td>\n",
       "    </tr>\n",
       "    <tr>\n",
       "      <th>3</th>\n",
       "      <td>G</td>\n",
       "      <td>7</td>\n",
       "      <td>18935100</td>\n",
       "      <td>18086949,19002416</td>\n",
       "      <td>CATGGCGACGTTATTTGTAACGACAAAAAAACTGGAATTTGGTGAT...</td>\n",
       "    </tr>\n",
       "    <tr>\n",
       "      <th>4</th>\n",
       "      <td>A</td>\n",
       "      <td>7</td>\n",
       "      <td>79974067</td>\n",
       "      <td>79768028,80226181</td>\n",
       "      <td>GGATCATATGTTAAGTGCATGTTTAGTTTTGTAAGAAACTGCCAAA...</td>\n",
       "    </tr>\n",
       "    <tr>\n",
       "      <th>...</th>\n",
       "      <td>...</td>\n",
       "      <td>...</td>\n",
       "      <td>...</td>\n",
       "      <td>...</td>\n",
       "      <td>...</td>\n",
       "    </tr>\n",
       "    <tr>\n",
       "      <th>6396</th>\n",
       "      <td>C</td>\n",
       "      <td>6</td>\n",
       "      <td>53312880</td>\n",
       "      <td>53267398,53349179</td>\n",
       "      <td>TCCTGTACAATGTTACCACTGGGGGAAACAGGGTAGAGAGTACTTG...</td>\n",
       "    </tr>\n",
       "    <tr>\n",
       "      <th>6397</th>\n",
       "      <td>C</td>\n",
       "      <td>18</td>\n",
       "      <td>53580709</td>\n",
       "      <td>53568439,53629990</td>\n",
       "      <td>CACCATCTTCTTGTTTTTTTCTTGCAGAAGAAATGTCAAGTTATAC...</td>\n",
       "    </tr>\n",
       "    <tr>\n",
       "      <th>6398</th>\n",
       "      <td>C</td>\n",
       "      <td>5</td>\n",
       "      <td>87315172</td>\n",
       "      <td>87267883,87391931</td>\n",
       "      <td>GATAAGTGACACCCCCATCTTTAAGTTTGTTTCAGAGATCCTAAAT...</td>\n",
       "    </tr>\n",
       "    <tr>\n",
       "      <th>6399</th>\n",
       "      <td>C</td>\n",
       "      <td>3</td>\n",
       "      <td>175534948</td>\n",
       "      <td>174438573,175810548</td>\n",
       "      <td>GGTATTTAAATGATAAAGGAGGCCTATTGACTCAGTAGTTTAGGAC...</td>\n",
       "    </tr>\n",
       "    <tr>\n",
       "      <th>6400</th>\n",
       "      <td>T</td>\n",
       "      <td>19</td>\n",
       "      <td>50857584</td>\n",
       "      <td>50854915,50860764</td>\n",
       "      <td>GGGGCAATTGAGGGAGGAGGAAGGAGAAGGGGGAAGGAAAACAGGG...</td>\n",
       "    </tr>\n",
       "  </tbody>\n",
       "</table>\n",
       "<p>6401 rows × 5 columns</p>\n",
       "</div>"
      ],
      "text/plain": [
       "     riskAllele Chromosome  MutAllLoc            MapGenLoc  \\\n",
       "0             T          1  155212373  155208695,155213824   \n",
       "1             T          3   27285723    27106484,27369460   \n",
       "2             A          5    1282299      1253147,1295068   \n",
       "3             G          7   18935100    18086949,19002416   \n",
       "4             A          7   79974067    79768028,80226181   \n",
       "...         ...        ...        ...                  ...   \n",
       "6396          C          6   53312880    53267398,53349179   \n",
       "6397          C         18   53580709    53568439,53629990   \n",
       "6398          C          5   87315172    87267883,87391931   \n",
       "6399          C          3  175534948  174438573,175810548   \n",
       "6400          T         19   50857584    50854915,50860764   \n",
       "\n",
       "                                                RefGene  \n",
       "0     ACAGAAGTACAATGCTGATTATGATCTGTCAGCTCGGCAAGGGGCA...  \n",
       "1     TGAAAATAACACACATGATAGAAATTTCTGTTATGTCTTTCAAAAG...  \n",
       "2     CTGCACTCCAGCCTGGGCAACAGAGTGAGACTCCATCTCAAAAAAG...  \n",
       "3     CATGGCGACGTTATTTGTAACGACAAAAAAACTGGAATTTGGTGAT...  \n",
       "4     GGATCATATGTTAAGTGCATGTTTAGTTTTGTAAGAAACTGCCAAA...  \n",
       "...                                                 ...  \n",
       "6396  TCCTGTACAATGTTACCACTGGGGGAAACAGGGTAGAGAGTACTTG...  \n",
       "6397  CACCATCTTCTTGTTTTTTTCTTGCAGAAGAAATGTCAAGTTATAC...  \n",
       "6398  GATAAGTGACACCCCCATCTTTAAGTTTGTTTCAGAGATCCTAAAT...  \n",
       "6399  GGTATTTAAATGATAAAGGAGGCCTATTGACTCAGTAGTTTAGGAC...  \n",
       "6400  GGGGCAATTGAGGGAGGAGGAAGGAGAAGGGGGAAGGAAAACAGGG...  \n",
       "\n",
       "[6401 rows x 5 columns]"
      ]
     },
     "execution_count": 32,
     "metadata": {},
     "output_type": "execute_result"
    }
   ],
   "source": [
    "ref_mutD"
   ]
  },
  {
   "cell_type": "markdown",
   "metadata": {},
   "source": [
    "For the Mutated Gene"
   ]
  },
  {
   "cell_type": "code",
   "execution_count": 33,
   "metadata": {},
   "outputs": [],
   "source": [
    "def Mutate(X):\n",
    "    MutGene=X[\"RefGene\"]\n",
    "    a=int(X[\"MapGenLoc\"].split(',')[0])\n",
    "    b=int(X[\"MutAllLoc\"])\n",
    "    if b-250<=a:\n",
    "        pos_on_gene=b-a\n",
    "    else : \n",
    "        pos_on_gene=250\n",
    "    MutGene=list(MutGene)\n",
    "    MutGene[pos_on_gene]=X[\"riskAllele\"]\n",
    "    MutGene=''.join(MutGene)\n",
    "    return MutGene "
   ]
  },
  {
   "cell_type": "code",
   "execution_count": 34,
   "metadata": {},
   "outputs": [],
   "source": [
    "ref_mutD[\"MutGene\"]=pd.DataFrame(ref_mutD.apply(Mutate,axis=1))"
   ]
  },
  {
   "cell_type": "code",
   "execution_count": 35,
   "metadata": {},
   "outputs": [
    {
     "data": {
      "text/html": [
       "<div>\n",
       "<style scoped>\n",
       "    .dataframe tbody tr th:only-of-type {\n",
       "        vertical-align: middle;\n",
       "    }\n",
       "\n",
       "    .dataframe tbody tr th {\n",
       "        vertical-align: top;\n",
       "    }\n",
       "\n",
       "    .dataframe thead th {\n",
       "        text-align: right;\n",
       "    }\n",
       "</style>\n",
       "<table border=\"1\" class=\"dataframe\">\n",
       "  <thead>\n",
       "    <tr style=\"text-align: right;\">\n",
       "      <th></th>\n",
       "      <th>riskAllele</th>\n",
       "      <th>Chromosome</th>\n",
       "      <th>MutAllLoc</th>\n",
       "      <th>MapGenLoc</th>\n",
       "      <th>RefGene</th>\n",
       "      <th>MutGene</th>\n",
       "    </tr>\n",
       "  </thead>\n",
       "  <tbody>\n",
       "    <tr>\n",
       "      <th>0</th>\n",
       "      <td>T</td>\n",
       "      <td>1</td>\n",
       "      <td>155212373</td>\n",
       "      <td>155208695,155213824</td>\n",
       "      <td>ACAGAAGTACAATGCTGATTATGATCTGTCAGCTCGGCAAGGGGCA...</td>\n",
       "      <td>ACAGAAGTACAATGCTGATTATGATCTGTCAGCTCGGCAAGGGGCA...</td>\n",
       "    </tr>\n",
       "    <tr>\n",
       "      <th>1</th>\n",
       "      <td>T</td>\n",
       "      <td>3</td>\n",
       "      <td>27285723</td>\n",
       "      <td>27106484,27369460</td>\n",
       "      <td>TGAAAATAACACACATGATAGAAATTTCTGTTATGTCTTTCAAAAG...</td>\n",
       "      <td>TGAAAATAACACACATGATAGAAATTTCTGTTATGTCTTTCAAAAG...</td>\n",
       "    </tr>\n",
       "    <tr>\n",
       "      <th>2</th>\n",
       "      <td>A</td>\n",
       "      <td>5</td>\n",
       "      <td>1282299</td>\n",
       "      <td>1253147,1295068</td>\n",
       "      <td>CTGCACTCCAGCCTGGGCAACAGAGTGAGACTCCATCTCAAAAAAG...</td>\n",
       "      <td>CTGCACTCCAGCCTGGGCAACAGAGTGAGACTCCATCTCAAAAAAG...</td>\n",
       "    </tr>\n",
       "    <tr>\n",
       "      <th>3</th>\n",
       "      <td>G</td>\n",
       "      <td>7</td>\n",
       "      <td>18935100</td>\n",
       "      <td>18086949,19002416</td>\n",
       "      <td>CATGGCGACGTTATTTGTAACGACAAAAAAACTGGAATTTGGTGAT...</td>\n",
       "      <td>CATGGCGACGTTATTTGTAACGACAAAAAAACTGGAATTTGGTGAT...</td>\n",
       "    </tr>\n",
       "    <tr>\n",
       "      <th>4</th>\n",
       "      <td>A</td>\n",
       "      <td>7</td>\n",
       "      <td>79974067</td>\n",
       "      <td>79768028,80226181</td>\n",
       "      <td>GGATCATATGTTAAGTGCATGTTTAGTTTTGTAAGAAACTGCCAAA...</td>\n",
       "      <td>GGATCATATGTTAAGTGCATGTTTAGTTTTGTAAGAAACTGCCAAA...</td>\n",
       "    </tr>\n",
       "    <tr>\n",
       "      <th>...</th>\n",
       "      <td>...</td>\n",
       "      <td>...</td>\n",
       "      <td>...</td>\n",
       "      <td>...</td>\n",
       "      <td>...</td>\n",
       "      <td>...</td>\n",
       "    </tr>\n",
       "    <tr>\n",
       "      <th>6396</th>\n",
       "      <td>C</td>\n",
       "      <td>6</td>\n",
       "      <td>53312880</td>\n",
       "      <td>53267398,53349179</td>\n",
       "      <td>TCCTGTACAATGTTACCACTGGGGGAAACAGGGTAGAGAGTACTTG...</td>\n",
       "      <td>TCCTGTACAATGTTACCACTGGGGGAAACAGGGTAGAGAGTACTTG...</td>\n",
       "    </tr>\n",
       "    <tr>\n",
       "      <th>6397</th>\n",
       "      <td>C</td>\n",
       "      <td>18</td>\n",
       "      <td>53580709</td>\n",
       "      <td>53568439,53629990</td>\n",
       "      <td>CACCATCTTCTTGTTTTTTTCTTGCAGAAGAAATGTCAAGTTATAC...</td>\n",
       "      <td>CACCATCTTCTTGTTTTTTTCTTGCAGAAGAAATGTCAAGTTATAC...</td>\n",
       "    </tr>\n",
       "    <tr>\n",
       "      <th>6398</th>\n",
       "      <td>C</td>\n",
       "      <td>5</td>\n",
       "      <td>87315172</td>\n",
       "      <td>87267883,87391931</td>\n",
       "      <td>GATAAGTGACACCCCCATCTTTAAGTTTGTTTCAGAGATCCTAAAT...</td>\n",
       "      <td>GATAAGTGACACCCCCATCTTTAAGTTTGTTTCAGAGATCCTAAAT...</td>\n",
       "    </tr>\n",
       "    <tr>\n",
       "      <th>6399</th>\n",
       "      <td>C</td>\n",
       "      <td>3</td>\n",
       "      <td>175534948</td>\n",
       "      <td>174438573,175810548</td>\n",
       "      <td>GGTATTTAAATGATAAAGGAGGCCTATTGACTCAGTAGTTTAGGAC...</td>\n",
       "      <td>GGTATTTAAATGATAAAGGAGGCCTATTGACTCAGTAGTTTAGGAC...</td>\n",
       "    </tr>\n",
       "    <tr>\n",
       "      <th>6400</th>\n",
       "      <td>T</td>\n",
       "      <td>19</td>\n",
       "      <td>50857584</td>\n",
       "      <td>50854915,50860764</td>\n",
       "      <td>GGGGCAATTGAGGGAGGAGGAAGGAGAAGGGGGAAGGAAAACAGGG...</td>\n",
       "      <td>GGGGCAATTGAGGGAGGAGGAAGGAGAAGGGGGAAGGAAAACAGGG...</td>\n",
       "    </tr>\n",
       "  </tbody>\n",
       "</table>\n",
       "<p>6401 rows × 6 columns</p>\n",
       "</div>"
      ],
      "text/plain": [
       "     riskAllele Chromosome  MutAllLoc            MapGenLoc  \\\n",
       "0             T          1  155212373  155208695,155213824   \n",
       "1             T          3   27285723    27106484,27369460   \n",
       "2             A          5    1282299      1253147,1295068   \n",
       "3             G          7   18935100    18086949,19002416   \n",
       "4             A          7   79974067    79768028,80226181   \n",
       "...         ...        ...        ...                  ...   \n",
       "6396          C          6   53312880    53267398,53349179   \n",
       "6397          C         18   53580709    53568439,53629990   \n",
       "6398          C          5   87315172    87267883,87391931   \n",
       "6399          C          3  175534948  174438573,175810548   \n",
       "6400          T         19   50857584    50854915,50860764   \n",
       "\n",
       "                                                RefGene  \\\n",
       "0     ACAGAAGTACAATGCTGATTATGATCTGTCAGCTCGGCAAGGGGCA...   \n",
       "1     TGAAAATAACACACATGATAGAAATTTCTGTTATGTCTTTCAAAAG...   \n",
       "2     CTGCACTCCAGCCTGGGCAACAGAGTGAGACTCCATCTCAAAAAAG...   \n",
       "3     CATGGCGACGTTATTTGTAACGACAAAAAAACTGGAATTTGGTGAT...   \n",
       "4     GGATCATATGTTAAGTGCATGTTTAGTTTTGTAAGAAACTGCCAAA...   \n",
       "...                                                 ...   \n",
       "6396  TCCTGTACAATGTTACCACTGGGGGAAACAGGGTAGAGAGTACTTG...   \n",
       "6397  CACCATCTTCTTGTTTTTTTCTTGCAGAAGAAATGTCAAGTTATAC...   \n",
       "6398  GATAAGTGACACCCCCATCTTTAAGTTTGTTTCAGAGATCCTAAAT...   \n",
       "6399  GGTATTTAAATGATAAAGGAGGCCTATTGACTCAGTAGTTTAGGAC...   \n",
       "6400  GGGGCAATTGAGGGAGGAGGAAGGAGAAGGGGGAAGGAAAACAGGG...   \n",
       "\n",
       "                                                MutGene  \n",
       "0     ACAGAAGTACAATGCTGATTATGATCTGTCAGCTCGGCAAGGGGCA...  \n",
       "1     TGAAAATAACACACATGATAGAAATTTCTGTTATGTCTTTCAAAAG...  \n",
       "2     CTGCACTCCAGCCTGGGCAACAGAGTGAGACTCCATCTCAAAAAAG...  \n",
       "3     CATGGCGACGTTATTTGTAACGACAAAAAAACTGGAATTTGGTGAT...  \n",
       "4     GGATCATATGTTAAGTGCATGTTTAGTTTTGTAAGAAACTGCCAAA...  \n",
       "...                                                 ...  \n",
       "6396  TCCTGTACAATGTTACCACTGGGGGAAACAGGGTAGAGAGTACTTG...  \n",
       "6397  CACCATCTTCTTGTTTTTTTCTTGCAGAAGAAATGTCAAGTTATAC...  \n",
       "6398  GATAAGTGACACCCCCATCTTTAAGTTTGTTTCAGAGATCCTAAAT...  \n",
       "6399  GGTATTTAAATGATAAAGGAGGCCTATTGACTCAGTAGTTTAGGAC...  \n",
       "6400  GGGGCAATTGAGGGAGGAGGAAGGAGAAGGGGGAAGGAAAACAGGG...  \n",
       "\n",
       "[6401 rows x 6 columns]"
      ]
     },
     "execution_count": 35,
     "metadata": {},
     "output_type": "execute_result"
    }
   ],
   "source": [
    "ref_mutD"
   ]
  },
  {
   "cell_type": "markdown",
   "metadata": {},
   "source": [
    "Final Input "
   ]
  },
  {
   "cell_type": "code",
   "execution_count": 36,
   "metadata": {},
   "outputs": [],
   "source": [
    "input=[[k,1] for k in ref_mutD[\"MutGene\"]]            \n",
    "input.extend([[k,0] for k in ref_mutD[\"RefGene\"]])    "
   ]
  },
  {
   "cell_type": "code",
   "execution_count": 37,
   "metadata": {},
   "outputs": [],
   "source": [
    "input=pd.DataFrame(input,columns=[\"DnaStrand\",\"labels\"])"
   ]
  },
  {
   "cell_type": "code",
   "execution_count": 38,
   "metadata": {},
   "outputs": [
    {
     "data": {
      "text/html": [
       "<div>\n",
       "<style scoped>\n",
       "    .dataframe tbody tr th:only-of-type {\n",
       "        vertical-align: middle;\n",
       "    }\n",
       "\n",
       "    .dataframe tbody tr th {\n",
       "        vertical-align: top;\n",
       "    }\n",
       "\n",
       "    .dataframe thead th {\n",
       "        text-align: right;\n",
       "    }\n",
       "</style>\n",
       "<table border=\"1\" class=\"dataframe\">\n",
       "  <thead>\n",
       "    <tr style=\"text-align: right;\">\n",
       "      <th></th>\n",
       "      <th>DnaStrand</th>\n",
       "      <th>labels</th>\n",
       "    </tr>\n",
       "  </thead>\n",
       "  <tbody>\n",
       "    <tr>\n",
       "      <th>0</th>\n",
       "      <td>ACAGAAGTACAATGCTGATTATGATCTGTCAGCTCGGCAAGGGGCA...</td>\n",
       "      <td>1</td>\n",
       "    </tr>\n",
       "    <tr>\n",
       "      <th>1</th>\n",
       "      <td>TGAAAATAACACACATGATAGAAATTTCTGTTATGTCTTTCAAAAG...</td>\n",
       "      <td>1</td>\n",
       "    </tr>\n",
       "    <tr>\n",
       "      <th>2</th>\n",
       "      <td>CTGCACTCCAGCCTGGGCAACAGAGTGAGACTCCATCTCAAAAAAG...</td>\n",
       "      <td>1</td>\n",
       "    </tr>\n",
       "    <tr>\n",
       "      <th>3</th>\n",
       "      <td>CATGGCGACGTTATTTGTAACGACAAAAAAACTGGAATTTGGTGAT...</td>\n",
       "      <td>1</td>\n",
       "    </tr>\n",
       "    <tr>\n",
       "      <th>4</th>\n",
       "      <td>GGATCATATGTTAAGTGCATGTTTAGTTTTGTAAGAAACTGCCAAA...</td>\n",
       "      <td>1</td>\n",
       "    </tr>\n",
       "    <tr>\n",
       "      <th>...</th>\n",
       "      <td>...</td>\n",
       "      <td>...</td>\n",
       "    </tr>\n",
       "    <tr>\n",
       "      <th>12797</th>\n",
       "      <td>TCCTGTACAATGTTACCACTGGGGGAAACAGGGTAGAGAGTACTTG...</td>\n",
       "      <td>0</td>\n",
       "    </tr>\n",
       "    <tr>\n",
       "      <th>12798</th>\n",
       "      <td>CACCATCTTCTTGTTTTTTTCTTGCAGAAGAAATGTCAAGTTATAC...</td>\n",
       "      <td>0</td>\n",
       "    </tr>\n",
       "    <tr>\n",
       "      <th>12799</th>\n",
       "      <td>GATAAGTGACACCCCCATCTTTAAGTTTGTTTCAGAGATCCTAAAT...</td>\n",
       "      <td>0</td>\n",
       "    </tr>\n",
       "    <tr>\n",
       "      <th>12800</th>\n",
       "      <td>GGTATTTAAATGATAAAGGAGGCCTATTGACTCAGTAGTTTAGGAC...</td>\n",
       "      <td>0</td>\n",
       "    </tr>\n",
       "    <tr>\n",
       "      <th>12801</th>\n",
       "      <td>GGGGCAATTGAGGGAGGAGGAAGGAGAAGGGGGAAGGAAAACAGGG...</td>\n",
       "      <td>0</td>\n",
       "    </tr>\n",
       "  </tbody>\n",
       "</table>\n",
       "<p>12802 rows × 2 columns</p>\n",
       "</div>"
      ],
      "text/plain": [
       "                                               DnaStrand  labels\n",
       "0      ACAGAAGTACAATGCTGATTATGATCTGTCAGCTCGGCAAGGGGCA...       1\n",
       "1      TGAAAATAACACACATGATAGAAATTTCTGTTATGTCTTTCAAAAG...       1\n",
       "2      CTGCACTCCAGCCTGGGCAACAGAGTGAGACTCCATCTCAAAAAAG...       1\n",
       "3      CATGGCGACGTTATTTGTAACGACAAAAAAACTGGAATTTGGTGAT...       1\n",
       "4      GGATCATATGTTAAGTGCATGTTTAGTTTTGTAAGAAACTGCCAAA...       1\n",
       "...                                                  ...     ...\n",
       "12797  TCCTGTACAATGTTACCACTGGGGGAAACAGGGTAGAGAGTACTTG...       0\n",
       "12798  CACCATCTTCTTGTTTTTTTCTTGCAGAAGAAATGTCAAGTTATAC...       0\n",
       "12799  GATAAGTGACACCCCCATCTTTAAGTTTGTTTCAGAGATCCTAAAT...       0\n",
       "12800  GGTATTTAAATGATAAAGGAGGCCTATTGACTCAGTAGTTTAGGAC...       0\n",
       "12801  GGGGCAATTGAGGGAGGAGGAAGGAGAAGGGGGAAGGAAAACAGGG...       0\n",
       "\n",
       "[12802 rows x 2 columns]"
      ]
     },
     "execution_count": 38,
     "metadata": {},
     "output_type": "execute_result"
    }
   ],
   "source": [
    "input"
   ]
  },
  {
   "cell_type": "markdown",
   "metadata": {},
   "source": [
    "$II -\\textbf{Fine Tuning DNABERT-2}$"
   ]
  },
  {
   "cell_type": "markdown",
   "metadata": {},
   "source": [
    "$\\quad\\quad\\quad\\quad 0-\\textbf{Dependencies}$"
   ]
  },
  {
   "cell_type": "code",
   "execution_count": 39,
   "metadata": {},
   "outputs": [],
   "source": [
    "from sklearn.metrics import accuracy_score\n",
    "from sklearn.metrics import f1_score\n",
    "from datasets import Dataset\n",
    "from sklearn.metrics import f1_score\n",
    "from datasets import load_dataset, DatasetDict\n",
    "from transformers import Trainer"
   ]
  },
  {
   "cell_type": "markdown",
   "metadata": {},
   "source": [
    "$\\quad\\quad\\quad\\quad 1-\\textbf{Fine Tuning}$"
   ]
  },
  {
   "cell_type": "code",
   "execution_count": 40,
   "metadata": {},
   "outputs": [],
   "source": [
    "input_raw=Dataset.from_pandas(input)"
   ]
  },
  {
   "cell_type": "code",
   "execution_count": 41,
   "metadata": {},
   "outputs": [],
   "source": [
    "input_raw=input_raw.train_test_split(test_size=0.2)\n",
    "inter=input_raw[\"train\"].train_test_split(test_size=0.1)\n",
    "input_raw=DatasetDict({\n",
    "    'train':inter[\"train\"],\n",
    "    'validation':inter[\"test\"],\n",
    "    'test':input_raw[\"test\"]\n",
    "})"
   ]
  },
  {
   "cell_type": "code",
   "execution_count": 42,
   "metadata": {},
   "outputs": [
    {
     "data": {
      "text/plain": [
       "{'DnaStrand': 'ACTCCAGCCTGGGCGACAGGGAGACTCCGTCTCAAAAAAAAAAAAAAAAAAAAAGGCTGCTCCCCCTCACACCCCCCAACGTCCAGCAGCGGCAACCTGCTCGGGTACCCTTCCACGCTGTGGAAGCTTTGTTCTTTGCTCTTCACAATAAATCTTGCTGCTGCTCACTCTTTGGGTCCACGCCACCTGTAAGAGCTGTAACACTCACCGCGAAGGTTCATGGCTTCATTCTTGACGTCAGCGAGACCACGAGCCCACCTGAAGGAACCAACTCCTGACACAGAAGCACAGGCCATCTCCCTAGGCCCAGCTGCCTTTTGAGGGTGCTCCCAGGTGTCCACAGTTTAAGATCACCGAGTATCTGCTCTAGTTAGAAGGATGCATCAAGGAATGGGAAGCATTGGCTGAGGGGAACCACTAAGAAACACCTGCCTGGGCTGGCCTTTCCCCTGGGTGTGTCCACAGACAGCTTTTGCCCAAGAATTTCAGTATAGGTGAGAA\\n',\n",
       " 'labels': 0}"
      ]
     },
     "execution_count": 42,
     "metadata": {},
     "output_type": "execute_result"
    }
   ],
   "source": [
    "input_raw[\"train\"][1800]"
   ]
  },
  {
   "cell_type": "code",
   "execution_count": 43,
   "metadata": {},
   "outputs": [],
   "source": [
    "device=torch.device(\"cuda\" if torch.cuda.is_available() else \"cpu\")"
   ]
  },
  {
   "cell_type": "code",
   "execution_count": 44,
   "metadata": {},
   "outputs": [
    {
     "data": {
      "text/plain": [
       "True"
      ]
     },
     "execution_count": 44,
     "metadata": {},
     "output_type": "execute_result"
    }
   ],
   "source": [
    "torch.cuda.is_available()"
   ]
  },
  {
   "cell_type": "code",
   "execution_count": 45,
   "metadata": {},
   "outputs": [],
   "source": [
    "from transformers.models.bert.configuration_bert import BertConfig\n",
    "from transformers import AutoModel,AutoTokenizer,BertForSequenceClassification\n",
    "\n",
    "tokenizer = AutoTokenizer.from_pretrained(\"zhihan1996/DNABERT-2-117M\", trust_remote_code=True)\n",
    "checkpoint = BertConfig.from_pretrained(\"zhihan1996/DNABERT-2-117M\")"
   ]
  },
  {
   "cell_type": "code",
   "execution_count": 46,
   "metadata": {},
   "outputs": [
    {
     "name": "stderr",
     "output_type": "stream",
     "text": [
      "Some weights of BertForSequenceClassification were not initialized from the model checkpoint at zhihan1996/DNABERT-2-117M and are newly initialized: ['bert.embeddings.position_embeddings.weight', 'bert.encoder.layer.0.attention.self.key.bias', 'bert.encoder.layer.0.attention.self.key.weight', 'bert.encoder.layer.0.attention.self.query.bias', 'bert.encoder.layer.0.attention.self.query.weight', 'bert.encoder.layer.0.attention.self.value.bias', 'bert.encoder.layer.0.attention.self.value.weight', 'bert.encoder.layer.0.intermediate.dense.bias', 'bert.encoder.layer.0.intermediate.dense.weight', 'bert.encoder.layer.0.output.LayerNorm.bias', 'bert.encoder.layer.0.output.LayerNorm.weight', 'bert.encoder.layer.0.output.dense.bias', 'bert.encoder.layer.0.output.dense.weight', 'bert.encoder.layer.1.attention.self.key.bias', 'bert.encoder.layer.1.attention.self.key.weight', 'bert.encoder.layer.1.attention.self.query.bias', 'bert.encoder.layer.1.attention.self.query.weight', 'bert.encoder.layer.1.attention.self.value.bias', 'bert.encoder.layer.1.attention.self.value.weight', 'bert.encoder.layer.1.intermediate.dense.bias', 'bert.encoder.layer.1.intermediate.dense.weight', 'bert.encoder.layer.1.output.LayerNorm.bias', 'bert.encoder.layer.1.output.LayerNorm.weight', 'bert.encoder.layer.1.output.dense.bias', 'bert.encoder.layer.1.output.dense.weight', 'bert.encoder.layer.10.attention.self.key.bias', 'bert.encoder.layer.10.attention.self.key.weight', 'bert.encoder.layer.10.attention.self.query.bias', 'bert.encoder.layer.10.attention.self.query.weight', 'bert.encoder.layer.10.attention.self.value.bias', 'bert.encoder.layer.10.attention.self.value.weight', 'bert.encoder.layer.10.intermediate.dense.bias', 'bert.encoder.layer.10.intermediate.dense.weight', 'bert.encoder.layer.10.output.LayerNorm.bias', 'bert.encoder.layer.10.output.LayerNorm.weight', 'bert.encoder.layer.10.output.dense.bias', 'bert.encoder.layer.10.output.dense.weight', 'bert.encoder.layer.11.attention.self.key.bias', 'bert.encoder.layer.11.attention.self.key.weight', 'bert.encoder.layer.11.attention.self.query.bias', 'bert.encoder.layer.11.attention.self.query.weight', 'bert.encoder.layer.11.attention.self.value.bias', 'bert.encoder.layer.11.attention.self.value.weight', 'bert.encoder.layer.11.intermediate.dense.bias', 'bert.encoder.layer.11.intermediate.dense.weight', 'bert.encoder.layer.11.output.LayerNorm.bias', 'bert.encoder.layer.11.output.LayerNorm.weight', 'bert.encoder.layer.11.output.dense.bias', 'bert.encoder.layer.11.output.dense.weight', 'bert.encoder.layer.2.attention.self.key.bias', 'bert.encoder.layer.2.attention.self.key.weight', 'bert.encoder.layer.2.attention.self.query.bias', 'bert.encoder.layer.2.attention.self.query.weight', 'bert.encoder.layer.2.attention.self.value.bias', 'bert.encoder.layer.2.attention.self.value.weight', 'bert.encoder.layer.2.intermediate.dense.bias', 'bert.encoder.layer.2.intermediate.dense.weight', 'bert.encoder.layer.2.output.LayerNorm.bias', 'bert.encoder.layer.2.output.LayerNorm.weight', 'bert.encoder.layer.2.output.dense.bias', 'bert.encoder.layer.2.output.dense.weight', 'bert.encoder.layer.3.attention.self.key.bias', 'bert.encoder.layer.3.attention.self.key.weight', 'bert.encoder.layer.3.attention.self.query.bias', 'bert.encoder.layer.3.attention.self.query.weight', 'bert.encoder.layer.3.attention.self.value.bias', 'bert.encoder.layer.3.attention.self.value.weight', 'bert.encoder.layer.3.intermediate.dense.bias', 'bert.encoder.layer.3.intermediate.dense.weight', 'bert.encoder.layer.3.output.LayerNorm.bias', 'bert.encoder.layer.3.output.LayerNorm.weight', 'bert.encoder.layer.3.output.dense.bias', 'bert.encoder.layer.3.output.dense.weight', 'bert.encoder.layer.4.attention.self.key.bias', 'bert.encoder.layer.4.attention.self.key.weight', 'bert.encoder.layer.4.attention.self.query.bias', 'bert.encoder.layer.4.attention.self.query.weight', 'bert.encoder.layer.4.attention.self.value.bias', 'bert.encoder.layer.4.attention.self.value.weight', 'bert.encoder.layer.4.intermediate.dense.bias', 'bert.encoder.layer.4.intermediate.dense.weight', 'bert.encoder.layer.4.output.LayerNorm.bias', 'bert.encoder.layer.4.output.LayerNorm.weight', 'bert.encoder.layer.4.output.dense.bias', 'bert.encoder.layer.4.output.dense.weight', 'bert.encoder.layer.5.attention.self.key.bias', 'bert.encoder.layer.5.attention.self.key.weight', 'bert.encoder.layer.5.attention.self.query.bias', 'bert.encoder.layer.5.attention.self.query.weight', 'bert.encoder.layer.5.attention.self.value.bias', 'bert.encoder.layer.5.attention.self.value.weight', 'bert.encoder.layer.5.intermediate.dense.bias', 'bert.encoder.layer.5.intermediate.dense.weight', 'bert.encoder.layer.5.output.LayerNorm.bias', 'bert.encoder.layer.5.output.LayerNorm.weight', 'bert.encoder.layer.5.output.dense.bias', 'bert.encoder.layer.5.output.dense.weight', 'bert.encoder.layer.6.attention.self.key.bias', 'bert.encoder.layer.6.attention.self.key.weight', 'bert.encoder.layer.6.attention.self.query.bias', 'bert.encoder.layer.6.attention.self.query.weight', 'bert.encoder.layer.6.attention.self.value.bias', 'bert.encoder.layer.6.attention.self.value.weight', 'bert.encoder.layer.6.intermediate.dense.bias', 'bert.encoder.layer.6.intermediate.dense.weight', 'bert.encoder.layer.6.output.LayerNorm.bias', 'bert.encoder.layer.6.output.LayerNorm.weight', 'bert.encoder.layer.6.output.dense.bias', 'bert.encoder.layer.6.output.dense.weight', 'bert.encoder.layer.7.attention.self.key.bias', 'bert.encoder.layer.7.attention.self.key.weight', 'bert.encoder.layer.7.attention.self.query.bias', 'bert.encoder.layer.7.attention.self.query.weight', 'bert.encoder.layer.7.attention.self.value.bias', 'bert.encoder.layer.7.attention.self.value.weight', 'bert.encoder.layer.7.intermediate.dense.bias', 'bert.encoder.layer.7.intermediate.dense.weight', 'bert.encoder.layer.7.output.LayerNorm.bias', 'bert.encoder.layer.7.output.LayerNorm.weight', 'bert.encoder.layer.7.output.dense.bias', 'bert.encoder.layer.7.output.dense.weight', 'bert.encoder.layer.8.attention.self.key.bias', 'bert.encoder.layer.8.attention.self.key.weight', 'bert.encoder.layer.8.attention.self.query.bias', 'bert.encoder.layer.8.attention.self.query.weight', 'bert.encoder.layer.8.attention.self.value.bias', 'bert.encoder.layer.8.attention.self.value.weight', 'bert.encoder.layer.8.intermediate.dense.bias', 'bert.encoder.layer.8.intermediate.dense.weight', 'bert.encoder.layer.8.output.LayerNorm.bias', 'bert.encoder.layer.8.output.LayerNorm.weight', 'bert.encoder.layer.8.output.dense.bias', 'bert.encoder.layer.8.output.dense.weight', 'bert.encoder.layer.9.attention.self.key.bias', 'bert.encoder.layer.9.attention.self.key.weight', 'bert.encoder.layer.9.attention.self.query.bias', 'bert.encoder.layer.9.attention.self.query.weight', 'bert.encoder.layer.9.attention.self.value.bias', 'bert.encoder.layer.9.attention.self.value.weight', 'bert.encoder.layer.9.intermediate.dense.bias', 'bert.encoder.layer.9.intermediate.dense.weight', 'bert.encoder.layer.9.output.LayerNorm.bias', 'bert.encoder.layer.9.output.LayerNorm.weight', 'bert.encoder.layer.9.output.dense.bias', 'bert.encoder.layer.9.output.dense.weight', 'bert.pooler.dense.bias', 'bert.pooler.dense.weight', 'classifier.bias', 'classifier.weight']\n",
      "You should probably TRAIN this model on a down-stream task to be able to use it for predictions and inference.\n"
     ]
    }
   ],
   "source": [
    "device=torch.device(\"cuda\" if torch.cuda.is_available() else \"cpu\")\n",
    "num_labels=2\n",
    "model = (BertForSequenceClassification.from_pretrained(\"zhihan1996/DNABERT-2-117M\", num_labels=num_labels).to(device))"
   ]
  },
  {
   "cell_type": "code",
   "execution_count": 47,
   "metadata": {},
   "outputs": [],
   "source": [
    "def tokenize(batch):\n",
    "    return tokenizer(batch[\"DnaStrand\"], padding=True, truncation=True)"
   ]
  },
  {
   "cell_type": "code",
   "execution_count": 48,
   "metadata": {},
   "outputs": [
    {
     "data": {
      "application/vnd.jupyter.widget-view+json": {
       "model_id": "a9505b478734423c80666a7edd6cb870",
       "version_major": 2,
       "version_minor": 0
      },
      "text/plain": [
       "Map:   0%|          | 0/9216 [00:00<?, ? examples/s]"
      ]
     },
     "metadata": {},
     "output_type": "display_data"
    },
    {
     "name": "stderr",
     "output_type": "stream",
     "text": [
      "Asking to truncate to max_length but no maximum length is provided and the model has no predefined maximum length. Default to no truncation.\n"
     ]
    },
    {
     "data": {
      "application/vnd.jupyter.widget-view+json": {
       "model_id": "d486b9f1f20b497a94cb3da368fcbe07",
       "version_major": 2,
       "version_minor": 0
      },
      "text/plain": [
       "Map:   0%|          | 0/1025 [00:00<?, ? examples/s]"
      ]
     },
     "metadata": {},
     "output_type": "display_data"
    },
    {
     "data": {
      "application/vnd.jupyter.widget-view+json": {
       "model_id": "b1f47c1a050a44e696e8fd828a39614d",
       "version_major": 2,
       "version_minor": 0
      },
      "text/plain": [
       "Map:   0%|          | 0/2561 [00:00<?, ? examples/s]"
      ]
     },
     "metadata": {},
     "output_type": "display_data"
    }
   ],
   "source": [
    "input_encoded = input_raw.map(tokenize, batched=True, batch_size=None)"
   ]
  },
  {
   "cell_type": "code",
   "execution_count": 49,
   "metadata": {},
   "outputs": [
    {
     "data": {
      "application/vnd.jupyter.widget-view+json": {
       "model_id": "d6b851b08c0b4627a51dfac5249b2e77",
       "version_major": 2,
       "version_minor": 0
      },
      "text/plain": [
       "VBox(children=(HTML(value='<center> <img\\nsrc=https://huggingface.co/front/assets/huggingface_logo-noborder.sv…"
      ]
     },
     "metadata": {},
     "output_type": "display_data"
    }
   ],
   "source": [
    "from huggingface_hub import notebook_login\n",
    "notebook_login()"
   ]
  },
  {
   "cell_type": "code",
   "execution_count": 50,
   "metadata": {},
   "outputs": [],
   "source": [
    "from transformers import Trainer, TrainingArguments\n",
    "batch_size = 16\n",
    "logging_steps = len(input_encoded[\"train\"]) // batch_size\n",
    "model_name = \"zhihan1996/DNABERT-2-117M-finetuned-cancer\"\n",
    "training_args = TrainingArguments(output_dir=model_name,\n",
    "                                num_train_epochs=2,\n",
    "                                learning_rate=2e-5,\n",
    "                                per_device_train_batch_size=batch_size,\n",
    "                                per_device_eval_batch_size=batch_size,\n",
    "                                weight_decay=0.01,\n",
    "                                eval_strategy=\"epoch\",\n",
    "                                disable_tqdm=False,\n",
    "                                logging_steps=logging_steps,\n",
    "                                push_to_hub=False,\n",
    "                                log_level=\"error\")"
   ]
  },
  {
   "cell_type": "code",
   "execution_count": 51,
   "metadata": {},
   "outputs": [
    {
     "data": {
      "text/plain": [
       "'trainer = Trainer(model=model, args=training_args,\\n                compute_metrics=compute_metrics,\\n                train_dataset=input_encoded[\"train\"],\\n                eval_dataset=input_encoded[\"validation\"],\\n                tokenizer=tokenizer)'"
      ]
     },
     "execution_count": 51,
     "metadata": {},
     "output_type": "execute_result"
    }
   ],
   "source": [
    "\"\"\"trainer = Trainer(model=model, args=training_args,\n",
    "                compute_metrics=compute_metrics,\n",
    "                train_dataset=input_encoded[\"train\"],\n",
    "                eval_dataset=input_encoded[\"validation\"],\n",
    "                tokenizer=tokenizer)\"\"\""
   ]
  },
  {
   "cell_type": "code",
   "execution_count": 52,
   "metadata": {},
   "outputs": [],
   "source": [
    "def compute_metrics(pred):\n",
    "    labels = pred.label_ids\n",
    "    preds = pred.predictions.argmax(-1)\n",
    "    f1 = f1_score(labels, preds, average=\"weighted\")\n",
    "    acc = accuracy_score(labels, preds)\n",
    "    return {\"accuracy\": acc, \"f1\": f1}"
   ]
  },
  {
   "cell_type": "code",
   "execution_count": 53,
   "metadata": {},
   "outputs": [],
   "source": [
    "class CustomTrainer(Trainer):\n",
    "    def compute_loss(self, model, inputs, return_outputs=False):\n",
    "        labels = inputs.pop(\"labels\")\n",
    "        outputs = model(**inputs)\n",
    "        logits = outputs.get(\"logits\")\n",
    "        loss = torch.nn.CrossEntropyLoss()(logits, labels)\n",
    "        return (loss, outputs) if return_outputs else loss\n",
    "trainer = CustomTrainer(model=model, args=training_args,\n",
    "                compute_metrics=compute_metrics,\n",
    "                train_dataset=input_encoded[\"train\"],\n",
    "                eval_dataset=input_encoded[\"validation\"],\n",
    "                tokenizer=tokenizer)"
   ]
  },
  {
   "cell_type": "code",
   "execution_count": 54,
   "metadata": {},
   "outputs": [
    {
     "data": {
      "text/plain": [
       "True"
      ]
     },
     "execution_count": 54,
     "metadata": {},
     "output_type": "execute_result"
    }
   ],
   "source": [
    "torch.cuda.is_available()"
   ]
  },
  {
   "cell_type": "code",
   "execution_count": 55,
   "metadata": {},
   "outputs": [
    {
     "data": {
      "application/vnd.jupyter.widget-view+json": {
       "model_id": "ba38679ea7d740fe9b6d551b99a948c5",
       "version_major": 2,
       "version_minor": 0
      },
      "text/plain": [
       "  0%|          | 0/1152 [00:00<?, ?it/s]"
      ]
     },
     "metadata": {},
     "output_type": "display_data"
    },
    {
     "name": "stdout",
     "output_type": "stream",
     "text": [
      "{'loss': 0.7073, 'grad_norm': 2.343545913696289, 'learning_rate': 1e-05, 'epoch': 1.0}\n"
     ]
    },
    {
     "data": {
      "application/vnd.jupyter.widget-view+json": {
       "model_id": "ae916bed8c5a49478ca98b99bec682ae",
       "version_major": 2,
       "version_minor": 0
      },
      "text/plain": [
       "  0%|          | 0/65 [00:00<?, ?it/s]"
      ]
     },
     "metadata": {},
     "output_type": "display_data"
    },
    {
     "name": "stdout",
     "output_type": "stream",
     "text": [
      "{'eval_loss': 0.6929789781570435, 'eval_accuracy': 0.5092682926829268, 'eval_f1': 0.3436820281583553, 'eval_runtime': 16.8204, 'eval_samples_per_second': 60.938, 'eval_steps_per_second': 3.864, 'epoch': 1.0}\n",
      "{'loss': 0.6998, 'grad_norm': 1.8301968574523926, 'learning_rate': 0.0, 'epoch': 2.0}\n"
     ]
    },
    {
     "data": {
      "application/vnd.jupyter.widget-view+json": {
       "model_id": "26de8a78ca1d45ba8f9cf5fca0fb9319",
       "version_major": 2,
       "version_minor": 0
      },
      "text/plain": [
       "  0%|          | 0/65 [00:00<?, ?it/s]"
      ]
     },
     "metadata": {},
     "output_type": "display_data"
    },
    {
     "name": "stdout",
     "output_type": "stream",
     "text": [
      "{'eval_loss': 0.6932951807975769, 'eval_accuracy': 0.5092682926829268, 'eval_f1': 0.3436820281583553, 'eval_runtime': 16.7509, 'eval_samples_per_second': 61.191, 'eval_steps_per_second': 3.88, 'epoch': 2.0}\n",
      "{'train_runtime': 859.0679, 'train_samples_per_second': 21.456, 'train_steps_per_second': 1.341, 'train_loss': 0.7035545508066813, 'epoch': 2.0}\n"
     ]
    },
    {
     "data": {
      "text/plain": [
       "TrainOutput(global_step=1152, training_loss=0.7035545508066813, metrics={'train_runtime': 859.0679, 'train_samples_per_second': 21.456, 'train_steps_per_second': 1.341, 'total_flos': 1098751767183360.0, 'train_loss': 0.7035545508066813, 'epoch': 2.0})"
      ]
     },
     "execution_count": 55,
     "metadata": {},
     "output_type": "execute_result"
    }
   ],
   "source": [
    "trainer.train()"
   ]
  },
  {
   "cell_type": "code",
   "execution_count": 56,
   "metadata": {},
   "outputs": [
    {
     "data": {
      "application/vnd.jupyter.widget-view+json": {
       "model_id": "9d1e4d9e225b410f81e95588402ea858",
       "version_major": 2,
       "version_minor": 0
      },
      "text/plain": [
       "  0%|          | 0/65 [00:00<?, ?it/s]"
      ]
     },
     "metadata": {},
     "output_type": "display_data"
    },
    {
     "data": {
      "text/plain": [
       "{'eval_loss': 0.6932951807975769,\n",
       " 'eval_accuracy': 0.5092682926829268,\n",
       " 'eval_f1': 0.3436820281583553,\n",
       " 'eval_runtime': 16.7415,\n",
       " 'eval_samples_per_second': 61.225,\n",
       " 'eval_steps_per_second': 3.883,\n",
       " 'epoch': 2.0}"
      ]
     },
     "execution_count": 56,
     "metadata": {},
     "output_type": "execute_result"
    }
   ],
   "source": [
    "trainer.evaluate()"
   ]
  },
  {
   "cell_type": "markdown",
   "metadata": {},
   "source": [
    "$\\quad\\quad\\quad\\quad 2-\\textbf{Fine Tuning With Full sequence}$"
   ]
  },
  {
   "cell_type": "code",
   "execution_count": 57,
   "metadata": {},
   "outputs": [],
   "source": [
    "#ref_mutD[\"RefGeneLong\"]=pd.DataFrame(ref_mutD.apply(fetch_gene_sequence_ensembl,axis=1))"
   ]
  },
  {
   "cell_type": "code",
   "execution_count": 58,
   "metadata": {},
   "outputs": [],
   "source": [
    "# Iterate through each sequence in the list\n",
    "#    for sequence in ref_mutD[\"RefGeneLong\"]:\n",
    "        # Write the sequence to the file, followed by a newline character\n",
    "#        file.write(sequence + \"\\n\") "
   ]
  },
  {
   "cell_type": "code",
   "execution_count": 59,
   "metadata": {},
   "outputs": [],
   "source": [
    "fl=open(\"Reference_gene_Long.txt\")\n",
    "RefGeneLong=fl.readlines()\n",
    "ref_mutD[\"RefGeneLong\"]=RefGeneLong"
   ]
  },
  {
   "cell_type": "code",
   "execution_count": 68,
   "metadata": {},
   "outputs": [
    {
     "data": {
      "text/html": [
       "<div>\n",
       "<style scoped>\n",
       "    .dataframe tbody tr th:only-of-type {\n",
       "        vertical-align: middle;\n",
       "    }\n",
       "\n",
       "    .dataframe tbody tr th {\n",
       "        vertical-align: top;\n",
       "    }\n",
       "\n",
       "    .dataframe thead th {\n",
       "        text-align: right;\n",
       "    }\n",
       "</style>\n",
       "<table border=\"1\" class=\"dataframe\">\n",
       "  <thead>\n",
       "    <tr style=\"text-align: right;\">\n",
       "      <th></th>\n",
       "      <th>riskAllele</th>\n",
       "      <th>Chromosome</th>\n",
       "      <th>MutAllLoc</th>\n",
       "      <th>MapGenLoc</th>\n",
       "      <th>RefGene</th>\n",
       "      <th>MutGene</th>\n",
       "      <th>RefGeneLong</th>\n",
       "    </tr>\n",
       "  </thead>\n",
       "  <tbody>\n",
       "    <tr>\n",
       "      <th>0</th>\n",
       "      <td>T</td>\n",
       "      <td>1</td>\n",
       "      <td>155212373</td>\n",
       "      <td>155208695,155213824</td>\n",
       "      <td>ACAGAAGTACAATGCTGATTATGATCTGTCAGCTCGGCAAGGGGCA...</td>\n",
       "      <td>ACAGAAGTACAATGCTGATTATGATCTGTCAGCTCGGCAAGGGGCA...</td>\n",
       "      <td>ACCCAAGCCCCAGCCCGGCCTCCGCTCCGGCCGCCGCCACCGCCCC...</td>\n",
       "    </tr>\n",
       "    <tr>\n",
       "      <th>1</th>\n",
       "      <td>T</td>\n",
       "      <td>3</td>\n",
       "      <td>27285723</td>\n",
       "      <td>27106484,27369460</td>\n",
       "      <td>TGAAAATAACACACATGATAGAAATTTCTGTTATGTCTTTCAAAAG...</td>\n",
       "      <td>TGAAAATAACACACATGATAGAAATTTCTGTTATGTCTTTCAAAAG...</td>\n",
       "      <td>TGGAGGGCAACAGTTTTAGCTAAAATTTAATAGCCATTTACAAGCT...</td>\n",
       "    </tr>\n",
       "    <tr>\n",
       "      <th>2</th>\n",
       "      <td>A</td>\n",
       "      <td>5</td>\n",
       "      <td>1282299</td>\n",
       "      <td>1253147,1295068</td>\n",
       "      <td>CTGCACTCCAGCCTGGGCAACAGAGTGAGACTCCATCTCAAAAAAG...</td>\n",
       "      <td>CTGCACTCCAGCCTGGGCAACAGAGTGAGACTCCATCTCAAAAAAG...</td>\n",
       "      <td>ATTAGGATTCAAACATGAGATTTTTTTCAAAACTGAAAAACTCATA...</td>\n",
       "    </tr>\n",
       "    <tr>\n",
       "      <th>3</th>\n",
       "      <td>G</td>\n",
       "      <td>7</td>\n",
       "      <td>18935100</td>\n",
       "      <td>18086949,19002416</td>\n",
       "      <td>CATGGCGACGTTATTTGTAACGACAAAAAAACTGGAATTTGGTGAT...</td>\n",
       "      <td>CATGGCGACGTTATTTGTAACGACAAAAAAACTGGAATTTGGTGAT...</td>\n",
       "      <td>GCAGCGCGCACCGAGCCGGCCGCGCCGCGCCCGCCGCTCTCGCCGC...</td>\n",
       "    </tr>\n",
       "    <tr>\n",
       "      <th>4</th>\n",
       "      <td>A</td>\n",
       "      <td>7</td>\n",
       "      <td>79974067</td>\n",
       "      <td>79768028,80226181</td>\n",
       "      <td>GGATCATATGTTAAGTGCATGTTTAGTTTTGTAAGAAACTGCCAAA...</td>\n",
       "      <td>GGATCATATGTTAAGTGCATGTTTAGTTTTGTAAGAAACTGCCAAA...</td>\n",
       "      <td>GGGAGGCTCGGGCCGCACAGGTGCCCATGGAGGGAGTGAGAGGCTC...</td>\n",
       "    </tr>\n",
       "    <tr>\n",
       "      <th>...</th>\n",
       "      <td>...</td>\n",
       "      <td>...</td>\n",
       "      <td>...</td>\n",
       "      <td>...</td>\n",
       "      <td>...</td>\n",
       "      <td>...</td>\n",
       "      <td>...</td>\n",
       "    </tr>\n",
       "    <tr>\n",
       "      <th>6396</th>\n",
       "      <td>C</td>\n",
       "      <td>6</td>\n",
       "      <td>53312880</td>\n",
       "      <td>53267398,53349179</td>\n",
       "      <td>TCCTGTACAATGTTACCACTGGGGGAAACAGGGTAGAGAGTACTTG...</td>\n",
       "      <td>TCCTGTACAATGTTACCACTGGGGGAAACAGGGTAGAGAGTACTTG...</td>\n",
       "      <td>CACAGGTAATCAAAAATGTTTTAATGATTACTGTTTAGACATTTAA...</td>\n",
       "    </tr>\n",
       "    <tr>\n",
       "      <th>6397</th>\n",
       "      <td>C</td>\n",
       "      <td>18</td>\n",
       "      <td>53580709</td>\n",
       "      <td>53568439,53629990</td>\n",
       "      <td>CACCATCTTCTTGTTTTTTTCTTGCAGAAGAAATGTCAAGTTATAC...</td>\n",
       "      <td>CACCATCTTCTTGTTTTTTTCTTGCAGAAGAAATGTCAAGTTATAC...</td>\n",
       "      <td>GTTCTAATGGCTCTCAAGCAAGGTCCACTTGCAGTGAAATAAACCA...</td>\n",
       "    </tr>\n",
       "    <tr>\n",
       "      <th>6398</th>\n",
       "      <td>C</td>\n",
       "      <td>5</td>\n",
       "      <td>87315172</td>\n",
       "      <td>87267883,87391931</td>\n",
       "      <td>GATAAGTGACACCCCCATCTTTAAGTTTGTTTCAGAGATCCTAAAT...</td>\n",
       "      <td>GATAAGTGACACCCCCATCTTTAAGTTTGTTTCAGAGATCCTAAAT...</td>\n",
       "      <td>ACTCACTGAGAGCTCCAGGTAGTGAGCAGTTCAGTCGATTTCCTCG...</td>\n",
       "    </tr>\n",
       "    <tr>\n",
       "      <th>6399</th>\n",
       "      <td>C</td>\n",
       "      <td>3</td>\n",
       "      <td>175534948</td>\n",
       "      <td>174438573,175810548</td>\n",
       "      <td>GGTATTTAAATGATAAAGGAGGCCTATTGACTCAGTAGTTTAGGAC...</td>\n",
       "      <td>GGTATTTAAATGATAAAGGAGGCCTATTGACTCAGTAGTTTAGGAC...</td>\n",
       "      <td>GGATTCAGGTGATGGAGGTGTTTTATGAGCACACACAAAACAAGTG...</td>\n",
       "    </tr>\n",
       "    <tr>\n",
       "      <th>6400</th>\n",
       "      <td>T</td>\n",
       "      <td>19</td>\n",
       "      <td>50857584</td>\n",
       "      <td>50854915,50860764</td>\n",
       "      <td>GGGGCAATTGAGGGAGGAGGAAGGAGAAGGGGGAAGGAAAACAGGG...</td>\n",
       "      <td>GGGGCAATTGAGGGAGGAGGAAGGAGAAGGGGGAAGGAAAACAGGG...</td>\n",
       "      <td>AGCCCCAAGCTTACCACCTGCACCCGGAGAGCTGTGTCACCATGTG...</td>\n",
       "    </tr>\n",
       "  </tbody>\n",
       "</table>\n",
       "<p>6401 rows × 7 columns</p>\n",
       "</div>"
      ],
      "text/plain": [
       "     riskAllele Chromosome  MutAllLoc            MapGenLoc  \\\n",
       "0             T          1  155212373  155208695,155213824   \n",
       "1             T          3   27285723    27106484,27369460   \n",
       "2             A          5    1282299      1253147,1295068   \n",
       "3             G          7   18935100    18086949,19002416   \n",
       "4             A          7   79974067    79768028,80226181   \n",
       "...         ...        ...        ...                  ...   \n",
       "6396          C          6   53312880    53267398,53349179   \n",
       "6397          C         18   53580709    53568439,53629990   \n",
       "6398          C          5   87315172    87267883,87391931   \n",
       "6399          C          3  175534948  174438573,175810548   \n",
       "6400          T         19   50857584    50854915,50860764   \n",
       "\n",
       "                                                RefGene  \\\n",
       "0     ACAGAAGTACAATGCTGATTATGATCTGTCAGCTCGGCAAGGGGCA...   \n",
       "1     TGAAAATAACACACATGATAGAAATTTCTGTTATGTCTTTCAAAAG...   \n",
       "2     CTGCACTCCAGCCTGGGCAACAGAGTGAGACTCCATCTCAAAAAAG...   \n",
       "3     CATGGCGACGTTATTTGTAACGACAAAAAAACTGGAATTTGGTGAT...   \n",
       "4     GGATCATATGTTAAGTGCATGTTTAGTTTTGTAAGAAACTGCCAAA...   \n",
       "...                                                 ...   \n",
       "6396  TCCTGTACAATGTTACCACTGGGGGAAACAGGGTAGAGAGTACTTG...   \n",
       "6397  CACCATCTTCTTGTTTTTTTCTTGCAGAAGAAATGTCAAGTTATAC...   \n",
       "6398  GATAAGTGACACCCCCATCTTTAAGTTTGTTTCAGAGATCCTAAAT...   \n",
       "6399  GGTATTTAAATGATAAAGGAGGCCTATTGACTCAGTAGTTTAGGAC...   \n",
       "6400  GGGGCAATTGAGGGAGGAGGAAGGAGAAGGGGGAAGGAAAACAGGG...   \n",
       "\n",
       "                                                MutGene  \\\n",
       "0     ACAGAAGTACAATGCTGATTATGATCTGTCAGCTCGGCAAGGGGCA...   \n",
       "1     TGAAAATAACACACATGATAGAAATTTCTGTTATGTCTTTCAAAAG...   \n",
       "2     CTGCACTCCAGCCTGGGCAACAGAGTGAGACTCCATCTCAAAAAAG...   \n",
       "3     CATGGCGACGTTATTTGTAACGACAAAAAAACTGGAATTTGGTGAT...   \n",
       "4     GGATCATATGTTAAGTGCATGTTTAGTTTTGTAAGAAACTGCCAAA...   \n",
       "...                                                 ...   \n",
       "6396  TCCTGTACAATGTTACCACTGGGGGAAACAGGGTAGAGAGTACTTG...   \n",
       "6397  CACCATCTTCTTGTTTTTTTCTTGCAGAAGAAATGTCAAGTTATAC...   \n",
       "6398  GATAAGTGACACCCCCATCTTTAAGTTTGTTTCAGAGATCCTAAAT...   \n",
       "6399  GGTATTTAAATGATAAAGGAGGCCTATTGACTCAGTAGTTTAGGAC...   \n",
       "6400  GGGGCAATTGAGGGAGGAGGAAGGAGAAGGGGGAAGGAAAACAGGG...   \n",
       "\n",
       "                                            RefGeneLong  \n",
       "0     ACCCAAGCCCCAGCCCGGCCTCCGCTCCGGCCGCCGCCACCGCCCC...  \n",
       "1     TGGAGGGCAACAGTTTTAGCTAAAATTTAATAGCCATTTACAAGCT...  \n",
       "2     ATTAGGATTCAAACATGAGATTTTTTTCAAAACTGAAAAACTCATA...  \n",
       "3     GCAGCGCGCACCGAGCCGGCCGCGCCGCGCCCGCCGCTCTCGCCGC...  \n",
       "4     GGGAGGCTCGGGCCGCACAGGTGCCCATGGAGGGAGTGAGAGGCTC...  \n",
       "...                                                 ...  \n",
       "6396  CACAGGTAATCAAAAATGTTTTAATGATTACTGTTTAGACATTTAA...  \n",
       "6397  GTTCTAATGGCTCTCAAGCAAGGTCCACTTGCAGTGAAATAAACCA...  \n",
       "6398  ACTCACTGAGAGCTCCAGGTAGTGAGCAGTTCAGTCGATTTCCTCG...  \n",
       "6399  GGATTCAGGTGATGGAGGTGTTTTATGAGCACACACAAAACAAGTG...  \n",
       "6400  AGCCCCAAGCTTACCACCTGCACCCGGAGAGCTGTGTCACCATGTG...  \n",
       "\n",
       "[6401 rows x 7 columns]"
      ]
     },
     "execution_count": 68,
     "metadata": {},
     "output_type": "execute_result"
    }
   ],
   "source": [
    "ref_mutD"
   ]
  },
  {
   "cell_type": "code",
   "execution_count": 1,
   "metadata": {},
   "outputs": [
    {
     "name": "stdout",
     "output_type": "stream",
     "text": [
      "None\n"
     ]
    }
   ],
   "source": [
    "X=[2,4,5]\n",
    "X=X.extend([3,4])\n",
    "print(X)"
   ]
  },
  {
   "cell_type": "code",
   "execution_count": 2,
   "metadata": {},
   "outputs": [
    {
     "ename": "NameError",
     "evalue": "name 'ref_mutD' is not defined",
     "output_type": "error",
     "traceback": [
      "\u001b[0;31m---------------------------------------------------------------------------\u001b[0m",
      "\u001b[0;31mNameError\u001b[0m                                 Traceback (most recent call last)",
      "Cell \u001b[0;32mIn[2], line 10\u001b[0m\n\u001b[1;32m      8\u001b[0m     MutGene\u001b[38;5;241m=\u001b[39m\u001b[38;5;124m'\u001b[39m\u001b[38;5;124m'\u001b[39m\u001b[38;5;241m.\u001b[39mjoin(MutGene)\n\u001b[1;32m      9\u001b[0m     \u001b[38;5;28;01mreturn\u001b[39;00m MutGene \n\u001b[0;32m---> 10\u001b[0m \u001b[38;5;28minput\u001b[39m\u001b[38;5;241m=\u001b[39m[[k,\u001b[38;5;241m1\u001b[39m] \u001b[38;5;28;01mfor\u001b[39;00m k \u001b[38;5;129;01min\u001b[39;00m \u001b[43mref_mutD\u001b[49m[\u001b[38;5;124m\"\u001b[39m\u001b[38;5;124mMutGene\u001b[39m\u001b[38;5;124m\"\u001b[39m]]\n\u001b[1;32m     11\u001b[0m \u001b[38;5;28minput\u001b[39m\u001b[38;5;241m.\u001b[39mextend([[k,\u001b[38;5;241m0\u001b[39m] \u001b[38;5;28;01mfor\u001b[39;00m k \u001b[38;5;129;01min\u001b[39;00m ref_mutD[\u001b[38;5;124m\"\u001b[39m\u001b[38;5;124mRefGeneLong\u001b[39m\u001b[38;5;124m\"\u001b[39m]])\n\u001b[1;32m     12\u001b[0m input_long\u001b[38;5;241m=\u001b[39mpd\u001b[38;5;241m.\u001b[39mDataFrame(input_long,columns\u001b[38;5;241m=\u001b[39m[\u001b[38;5;124m\"\u001b[39m\u001b[38;5;124mDnaStrand\u001b[39m\u001b[38;5;124m\"\u001b[39m,\u001b[38;5;124m\"\u001b[39m\u001b[38;5;124mlabels\u001b[39m\u001b[38;5;124m\"\u001b[39m])\n",
      "\u001b[0;31mNameError\u001b[0m: name 'ref_mutD' is not defined"
     ]
    }
   ],
   "source": [
    "def Mutate_long(X):\n",
    "    MutGene=X[\"RefGene\"]\n",
    "    a=int(X[\"MapGenLoc\"].split(',')[0])\n",
    "    b=int(X[\"MutAllLoc\"])\n",
    "    pos_on_gene=b-a\n",
    "    MutGene=list(MutGene)\n",
    "    MutGene[pos_on_gene]=X[\"riskAllele\"]\n",
    "    MutGene=''.join(MutGene)\n",
    "    return MutGene \n",
    "input=[[k,1] for k in ref_mutD[\"MutGene\"]]\n",
    "input.extend([[k,0] for k in ref_mutD[\"RefGeneLong\"]])\n",
    "input_long=pd.DataFrame(input_long,columns=[\"DnaStrand\",\"labels\"])\n",
    "input_raw_long=Dataset.from_pandas(input_long)\n",
    "\"\"\"input_raw_long=input_raw_long.train_test_split(test_size=0.2)\n",
    "inter_long=input_raw_long[\"train\"].train_test_split(test_size=0.1)\n",
    "input_raw_long=DatasetDict({\n",
    "    'train':inter_long[\"train\"],\n",
    "    'validation':inter_long[\"test\"],\n",
    "    'test':input_raw_long[\"test\"]\n",
    "})\n",
    "print(input_raw_long)\n",
    "device=torch.device(\"cuda\" if torch.cuda.is_available() else \"cpu\")\n",
    "num_labels=2\n",
    "model_long = (BertForSequenceClassification.from_pretrained(\"zhihan1996/DNABERT-2-117M\", num_labels=num_labels).to(device))\n",
    "input_encoded_long = input_raw_long.map(tokenize, batched=True, batch_size=None)\n",
    "from transformers import Trainer, TrainingArguments\n",
    "batch_size = 16\n",
    "logging_steps = len(input_encoded[\"train\"]) // batch_size\n",
    "model_name_long = \"zhihan1996/DNABERT-2-117M-finetuned-cancer-long\"\n",
    "training_args = TrainingArguments(output_dir=model_name_long,\n",
    "                                num_train_epochs=2,\n",
    "                                learning_rate=2e-5,\n",
    "                                per_device_train_batch_size=batch_size,\n",
    "                                per_device_eval_batch_size=batch_size,\n",
    "                                weight_decay=0.01,\n",
    "                                eval_strategy=\"epoch\",\n",
    "                                disable_tqdm=False,\n",
    "                                logging_steps=logging_steps,\n",
    "                                push_to_hub=True,\n",
    "                                log_level=\"error\")\n",
    "trainer_long = CustomTrainer(model=model_long, args=training_args,\n",
    "                compute_metrics=compute_metrics,\n",
    "                train_dataset=input_encoded_long[\"train\"],\n",
    "                eval_dataset=input_encoded_long[\"validation\"],\n",
    "                tokenizer=tokenizer)\"\"\""
   ]
  },
  {
   "cell_type": "code",
   "execution_count": 61,
   "metadata": {},
   "outputs": [
    {
     "data": {
      "application/vnd.jupyter.widget-view+json": {
       "model_id": "4be6131e46404ef8a25b151170139a68",
       "version_major": 2,
       "version_minor": 0
      },
      "text/plain": [
       "  0%|          | 0/1152 [00:00<?, ?it/s]"
      ]
     },
     "metadata": {},
     "output_type": "display_data"
    },
    {
     "name": "stdout",
     "output_type": "stream",
     "text": [
      "{'loss': 0.7038, 'grad_norm': 1.9498193264007568, 'learning_rate': 1e-05, 'epoch': 1.0}\n"
     ]
    },
    {
     "data": {
      "application/vnd.jupyter.widget-view+json": {
       "model_id": "708513ce8c8c4a819c44cd8147b09c13",
       "version_major": 2,
       "version_minor": 0
      },
      "text/plain": [
       "  0%|          | 0/65 [00:00<?, ?it/s]"
      ]
     },
     "metadata": {},
     "output_type": "display_data"
    },
    {
     "name": "stdout",
     "output_type": "stream",
     "text": [
      "{'eval_loss': 0.693701982498169, 'eval_accuracy': 0.49073170731707316, 'eval_f1': 0.323086451283361, 'eval_runtime': 16.7472, 'eval_samples_per_second': 61.204, 'eval_steps_per_second': 3.881, 'epoch': 1.0}\n"
     ]
    },
    {
     "ename": "KeyboardInterrupt",
     "evalue": "",
     "output_type": "error",
     "traceback": [
      "\u001b[0;31m---------------------------------------------------------------------------\u001b[0m",
      "\u001b[0;31mKeyboardInterrupt\u001b[0m                         Traceback (most recent call last)",
      "Cell \u001b[0;32mIn[61], line 1\u001b[0m\n\u001b[0;32m----> 1\u001b[0m \u001b[43mtrainer\u001b[49m\u001b[38;5;241;43m.\u001b[39;49m\u001b[43mtrain\u001b[49m\u001b[43m(\u001b[49m\u001b[43m)\u001b[49m\n",
      "File \u001b[0;32m~/miniconda3/envs/nvedl/lib/python3.11/site-packages/transformers/trainer.py:1932\u001b[0m, in \u001b[0;36mTrainer.train\u001b[0;34m(self, resume_from_checkpoint, trial, ignore_keys_for_eval, **kwargs)\u001b[0m\n\u001b[1;32m   1930\u001b[0m         hf_hub_utils\u001b[38;5;241m.\u001b[39menable_progress_bars()\n\u001b[1;32m   1931\u001b[0m \u001b[38;5;28;01melse\u001b[39;00m:\n\u001b[0;32m-> 1932\u001b[0m     \u001b[38;5;28;01mreturn\u001b[39;00m \u001b[43minner_training_loop\u001b[49m\u001b[43m(\u001b[49m\n\u001b[1;32m   1933\u001b[0m \u001b[43m        \u001b[49m\u001b[43margs\u001b[49m\u001b[38;5;241;43m=\u001b[39;49m\u001b[43margs\u001b[49m\u001b[43m,\u001b[49m\n\u001b[1;32m   1934\u001b[0m \u001b[43m        \u001b[49m\u001b[43mresume_from_checkpoint\u001b[49m\u001b[38;5;241;43m=\u001b[39;49m\u001b[43mresume_from_checkpoint\u001b[49m\u001b[43m,\u001b[49m\n\u001b[1;32m   1935\u001b[0m \u001b[43m        \u001b[49m\u001b[43mtrial\u001b[49m\u001b[38;5;241;43m=\u001b[39;49m\u001b[43mtrial\u001b[49m\u001b[43m,\u001b[49m\n\u001b[1;32m   1936\u001b[0m \u001b[43m        \u001b[49m\u001b[43mignore_keys_for_eval\u001b[49m\u001b[38;5;241;43m=\u001b[39;49m\u001b[43mignore_keys_for_eval\u001b[49m\u001b[43m,\u001b[49m\n\u001b[1;32m   1937\u001b[0m \u001b[43m    \u001b[49m\u001b[43m)\u001b[49m\n",
      "File \u001b[0;32m~/miniconda3/envs/nvedl/lib/python3.11/site-packages/transformers/trainer.py:2273\u001b[0m, in \u001b[0;36mTrainer._inner_training_loop\u001b[0;34m(self, batch_size, args, resume_from_checkpoint, trial, ignore_keys_for_eval)\u001b[0m\n\u001b[1;32m   2267\u001b[0m \u001b[38;5;28;01mwith\u001b[39;00m \u001b[38;5;28mself\u001b[39m\u001b[38;5;241m.\u001b[39maccelerator\u001b[38;5;241m.\u001b[39maccumulate(model):\n\u001b[1;32m   2268\u001b[0m     tr_loss_step \u001b[38;5;241m=\u001b[39m \u001b[38;5;28mself\u001b[39m\u001b[38;5;241m.\u001b[39mtraining_step(model, inputs)\n\u001b[1;32m   2270\u001b[0m \u001b[38;5;28;01mif\u001b[39;00m (\n\u001b[1;32m   2271\u001b[0m     args\u001b[38;5;241m.\u001b[39mlogging_nan_inf_filter\n\u001b[1;32m   2272\u001b[0m     \u001b[38;5;129;01mand\u001b[39;00m \u001b[38;5;129;01mnot\u001b[39;00m is_torch_xla_available()\n\u001b[0;32m-> 2273\u001b[0m     \u001b[38;5;129;01mand\u001b[39;00m (torch\u001b[38;5;241m.\u001b[39misnan(tr_loss_step) \u001b[38;5;129;01mor\u001b[39;00m \u001b[43mtorch\u001b[49m\u001b[38;5;241;43m.\u001b[39;49m\u001b[43misinf\u001b[49m\u001b[43m(\u001b[49m\u001b[43mtr_loss_step\u001b[49m\u001b[43m)\u001b[49m)\n\u001b[1;32m   2274\u001b[0m ):\n\u001b[1;32m   2275\u001b[0m     \u001b[38;5;66;03m# if loss is nan or inf simply add the average of previous logged losses\u001b[39;00m\n\u001b[1;32m   2276\u001b[0m     tr_loss \u001b[38;5;241m+\u001b[39m\u001b[38;5;241m=\u001b[39m tr_loss \u001b[38;5;241m/\u001b[39m (\u001b[38;5;241m1\u001b[39m \u001b[38;5;241m+\u001b[39m \u001b[38;5;28mself\u001b[39m\u001b[38;5;241m.\u001b[39mstate\u001b[38;5;241m.\u001b[39mglobal_step \u001b[38;5;241m-\u001b[39m \u001b[38;5;28mself\u001b[39m\u001b[38;5;241m.\u001b[39m_globalstep_last_logged)\n\u001b[1;32m   2277\u001b[0m \u001b[38;5;28;01melse\u001b[39;00m:\n",
      "\u001b[0;31mKeyboardInterrupt\u001b[0m: "
     ]
    }
   ],
   "source": [
    "trainer.train()"
   ]
  }
 ],
 "metadata": {
  "kernelspec": {
   "display_name": "vedl",
   "language": "python",
   "name": "python3"
  },
  "language_info": {
   "codemirror_mode": {
    "name": "ipython",
    "version": 3
   },
   "file_extension": ".py",
   "mimetype": "text/x-python",
   "name": "python",
   "nbconvert_exporter": "python",
   "pygments_lexer": "ipython3",
   "version": "3.11.9"
  }
 },
 "nbformat": 4,
 "nbformat_minor": 2
}
